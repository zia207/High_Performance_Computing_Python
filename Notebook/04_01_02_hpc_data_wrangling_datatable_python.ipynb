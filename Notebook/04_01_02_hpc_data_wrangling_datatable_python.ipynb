{
  "cells": [
    {
      "cell_type": "markdown",
      "metadata": {
        "id": "view-in-github",
        "colab_type": "text"
      },
      "source": [
        "<a href=\"https://colab.research.google.com/github/zia207/High_Performance_Computing_Python/blob/main/Notebook/04_01_02_hpc_data_wrangling_datatable_python.ipynb\" target=\"_parent\"><img src=\"https://colab.research.google.com/assets/colab-badge.svg\" alt=\"Open In Colab\"/></a>"
      ]
    },
    {
      "cell_type": "markdown",
      "source": [
        "![alt text](http://drive.google.com/uc?export=view&id=1IFEWet-Aw4DhkkVe1xv_2YYqlvRe9m5_)"
      ],
      "metadata": {
        "id": "uDpVrC_Y9QQt"
      }
    },
    {
      "cell_type": "markdown",
      "metadata": {
        "id": "GAIKS-6y9OEV"
      },
      "source": [
        "#  Data Wrangling with **datatable**\n",
        "\n",
        "The `datatable` package is a high-performance Python library designed for efficient data manipulation and analysis, particularly for large datasets. It provides a Frame object, similar to a pandas DataFrame, but is optimized for speed and memory efficiency, leveraging multi-threaded operations and a columnar data structure. Built on top of C++ for performance, `datatable` excels in tasks like reading/writing large CSV files, filtering, grouping, and joining data, making it a powerful alternative to pandas for big data workflows."
      ]
    },
    {
      "cell_type": "markdown",
      "metadata": {
        "id": "KMOUKijT9OEX"
      },
      "source": [
        "## Why `datatable` in Python?\n",
        "\n",
        "The **`datatable`** package in Python is a fast, memory-efficient library for working with tabular data—especially large datasets (millions to billions of rows). It’s designed to be intuitive, concise, and blazingly fast, drawing heavy inspiration from R’s `data.table`.\n",
        "\n",
        "Key advantages:\n",
        "- **Speed**: Often 5–100x faster than pandas for large data.\n",
        "- **Memory efficiency**: Uses lazy evaluation and columnar storage.\n",
        "- **Concise syntax**: Less code for common operations like filtering, grouping, and joins.\n",
        "- **Seamless interoperability**: Easily convert to/from pandas, NumPy, or Arrow."
      ]
    },
    {
      "cell_type": "markdown",
      "source": [
        "## Mount Google Drive"
      ],
      "metadata": {
        "id": "HIGNCHSI-F1W"
      }
    },
    {
      "cell_type": "code",
      "source": [
        "from google.colab import drive\n",
        "drive.mount('/content/drive')"
      ],
      "metadata": {
        "id": "TANg6k3B-GsF",
        "colab": {
          "base_uri": "https://localhost:8080/"
        },
        "outputId": "0192e2ec-f561-4063-f5d3-c455c7624a08"
      },
      "execution_count": 1,
      "outputs": [
        {
          "output_type": "stream",
          "name": "stdout",
          "text": [
            "Mounted at /content/drive\n"
          ]
        }
      ]
    },
    {
      "cell_type": "markdown",
      "source": [
        "## Check and Install Required Python Packages"
      ],
      "metadata": {
        "id": "6DWLq7ox9osB"
      }
    },
    {
      "cell_type": "code",
      "source": [
        "import pkg_resources\n",
        "import subprocess\n",
        "import sys\n",
        "\n",
        "# List of required packages\n",
        "packages = [\n",
        "    'pandas',\n",
        "    'pyarrow',\n",
        "    'fastparquet',\n",
        "    'datatable',\n",
        "    'pandas',\n",
        "    'matplotlib',\n",
        "    'seaborn'\n",
        "\n",
        "]\n",
        "\n",
        "# Check for missing packages and install them\n",
        "for package in packages:\n",
        "    try:\n",
        "        pkg_resources.get_distribution(package)\n",
        "    except pkg_resources.DistributionNotFound:\n",
        "        print(f\"Installing {package}...\")\n",
        "        subprocess.check_call([sys.executable, \"-m\", \"pip\", \"install\", package])\n",
        "\n",
        "# Verify installed packages\n",
        "for package in packages:\n",
        "    try:\n",
        "        pkg_resources.get_distribution(package)\n",
        "        print(f\"{package} is installed.\")\n",
        "    except pkg_resources.DistributionNotFound:\n",
        "        print(f\"{package} failed to install.\")"
      ],
      "metadata": {
        "id": "bdcEH1Ct9kmR",
        "colab": {
          "base_uri": "https://localhost:8080/"
        },
        "outputId": "f93000ae-4599-4546-8df7-182f96af7b1e"
      },
      "execution_count": 2,
      "outputs": [
        {
          "output_type": "stream",
          "name": "stderr",
          "text": [
            "/tmp/ipython-input-1572386532.py:1: DeprecationWarning: pkg_resources is deprecated as an API. See https://setuptools.pypa.io/en/latest/pkg_resources.html\n",
            "  import pkg_resources\n"
          ]
        },
        {
          "output_type": "stream",
          "name": "stdout",
          "text": [
            "Installing fastparquet...\n",
            "Installing datatable...\n",
            "pandas is installed.\n",
            "pyarrow is installed.\n",
            "fastparquet is installed.\n",
            "datatable is installed.\n",
            "pandas is installed.\n",
            "matplotlib is installed.\n",
            "seaborn is installed.\n"
          ]
        }
      ]
    },
    {
      "cell_type": "code",
      "execution_count": 4,
      "metadata": {
        "id": "_mx2xDvT9OEZ"
      },
      "outputs": [],
      "source": [
        "# Load Required Libraries\n",
        "import os\n",
        "import time\n",
        "import pandas as pd\n",
        "import matplotlib.pyplot as plt\n",
        "import seaborn as sns\n",
        "from datatable import dt, fread, f, by, join, update, ifelse"
      ]
    },
    {
      "cell_type": "markdown",
      "metadata": {
        "id": "Xb6oyjiN9OEZ"
      },
      "source": [
        "## Data\n",
        "\n",
        "The dataset is in Parquet format, which DuckDB can query directly without loading into memory. For reproducibility:\n",
        "\n",
        "- Download the January 2023 data from:\n",
        "[https://d37ci07v2hxiua.cloudfront.net/trip-data/yellow_tripdata_2023-01.parquet](https://d37ci07v2hxiua.cloudfront.net/trip-data/yellow_tripdata_2023-01.parquet) (about 47 MB, ~3 million rows).\n",
        "\n",
        "- We saved  it to a local folder, e.g., `/home/zia207/Dropbox/WebSites/R_Website/Quarto_Projects/R_Beginner/Data/yellow_tripdata_2023-01.parquet`.\n",
        "\n",
        "- We'll also use the Taxi Zone Lookup CSV for joins: Download from [https://s3.amazonaws.com/nyc-tlc/misc/taxi+_zone_lookup.csv](https://s3.amazonaws.com/nyc-tlc/misc/taxi+_zone_lookup.csv).\n",
        "\n",
        "The dataset includes columns like `VendorID`, `tpep_pickup_datetime`, `tpep_dropoff_datetime`, `passenger_count`, `trip_distance`, `PULocationID`, `DOLocationID`, `fare_amount`, `total_amount`, etc.\n",
        "\n",
        "All data set use in this exercise can be downloaded from my [Dropbox](https://www.dropbox.com/scl/fi/ws1ol2kks3ms7rguoh310/yellow_tripdata_2023.parquet?rlkey=3tvgguudixfcizoet9vrxzwvl&dl=0) accounts."
      ]
    },
    {
      "cell_type": "markdown",
      "source": [
        "### Load Data"
      ],
      "metadata": {
        "id": "B6zfaJ4XWT8_"
      }
    },
    {
      "cell_type": "code",
      "execution_count": 5,
      "metadata": {
        "id": "yCY97M_K9OEa",
        "colab": {
          "base_uri": "https://localhost:8080/"
        },
        "outputId": "07f2d265-3fa8-45b5-9b2f-29606c78798e"
      },
      "outputs": [
        {
          "output_type": "stream",
          "name": "stdout",
          "text": [
            "Trip data shape: (3066766, 19)\n",
            "Zones data shape: (265, 4)\n"
          ]
        }
      ],
      "source": [
        "# Define data folder (adjust path as needed)\n",
        "data_folder = \"/content/drive/MyDrive/Data/CSV_files/\"\n",
        "\n",
        "# Main trip data (CSV)\n",
        "file_path = f\"{data_folder}yellow_trip_data_2023_01_pandas.csv\"\n",
        "df = fread(file_path)\n",
        "\n",
        "# Zone lookup data\n",
        "zone_path = f\"{data_folder}taxi_zone_lookup.csv\"\n",
        "zones = fread(zone_path)\n",
        "\n",
        "print(\"Trip data shape:\", df.shape)\n",
        "print(\"Zones data shape:\", zones.shape)"
      ]
    },
    {
      "cell_type": "markdown",
      "metadata": {
        "id": "CkjDS0Sk9OEa"
      },
      "source": [
        "### Converting Between `datatable` and `pandas`"
      ]
    },
    {
      "cell_type": "code",
      "execution_count": 6,
      "metadata": {
        "id": "CKQ2T7qY9OEa"
      },
      "outputs": [],
      "source": [
        "# datatable → pandas\n",
        "df_pandas = df.to_pandas()\n",
        "\n",
        "# pandas → datatable\n",
        "df_dt = dt.Frame(df_pandas)"
      ]
    },
    {
      "cell_type": "markdown",
      "metadata": {
        "id": "jQb_sLex9OEa"
      },
      "source": [
        "### Creating New Columns (Feature Engineering)"
      ]
    },
    {
      "cell_type": "code",
      "execution_count": 24,
      "metadata": {
        "id": "Cmu_qgpy9OEb",
        "colab": {
          "base_uri": "https://localhost:8080/",
          "height": 143
        },
        "outputId": "4433671d-348a-450a-d99f-29ec9cfcbaaa"
      },
      "outputs": [
        {
          "output_type": "execute_result",
          "data": {
            "text/plain": [
              "<Frame#79fe42925ef0 3x24>"
            ],
            "text/html": [
              "<div class='datatable'>\n",
              "  <table class='frame'>\n",
              "  <thead>\n",
              "    <tr class='colnames'><td class='row_index'></td><th>VendorID</th><th>tpep_pickup_datetime</th><th>tpep_dropoff_datetime</th><th>passenger_count</th><th>trip_distance</th><th>RatecodeID</th><th>store_and_fwd_flag</th><th>PULocationID</th><th>DOLocationID</th><th>payment_type</th><th class='vellipsis'>&hellip;</th><th>trip_duration</th><th>fare_per_mile</th><th>pickup_hour</th><th>time_of_day</th><th>is_weekend</th></tr>\n",
              "    <tr class='coltypes'><td class='row_index'></td><td class='int' title='int32'>&#x25AA;&#x25AA;&#x25AA;&#x25AA;</td><td class='time' title='time64'>&#x25AA;&#x25AA;&#x25AA;&#x25AA;&#x25AA;&#x25AA;&#x25AA;&#x25AA;</td><td class='time' title='time64'>&#x25AA;&#x25AA;&#x25AA;&#x25AA;&#x25AA;&#x25AA;&#x25AA;&#x25AA;</td><td class='float' title='float64'>&#x25AA;&#x25AA;&#x25AA;&#x25AA;&#x25AA;&#x25AA;&#x25AA;&#x25AA;</td><td class='float' title='float64'>&#x25AA;&#x25AA;&#x25AA;&#x25AA;&#x25AA;&#x25AA;&#x25AA;&#x25AA;</td><td class='float' title='float64'>&#x25AA;&#x25AA;&#x25AA;&#x25AA;&#x25AA;&#x25AA;&#x25AA;&#x25AA;</td><td class='str' title='str32'>&#x25AA;&#x25AA;&#x25AA;&#x25AA;</td><td class='int' title='int32'>&#x25AA;&#x25AA;&#x25AA;&#x25AA;</td><td class='int' title='int32'>&#x25AA;&#x25AA;&#x25AA;&#x25AA;</td><td class='int' title='int32'>&#x25AA;&#x25AA;&#x25AA;&#x25AA;</td><td></td><td class='float' title='float64'>&#x25AA;&#x25AA;&#x25AA;&#x25AA;&#x25AA;&#x25AA;&#x25AA;&#x25AA;</td><td class='float' title='float64'>&#x25AA;&#x25AA;&#x25AA;&#x25AA;&#x25AA;&#x25AA;&#x25AA;&#x25AA;</td><td class='int' title='int32'>&#x25AA;&#x25AA;&#x25AA;&#x25AA;</td><td class='str' title='str32'>&#x25AA;&#x25AA;&#x25AA;&#x25AA;</td><td class='bool' title='bool8'>&#x25AA;</td></tr>\n",
              "  </thead>\n",
              "  <tbody>\n",
              "    <tr><td class='row_index'>0</td><td>2</td><td>2023-01-01<span class=sp>T</span>00:32:10</td><td>2023-01-01<span class=sp>T</span>00:40:36</td><td>1</td><td>0.97</td><td>1</td><td>N</td><td>161</td><td>141</td><td>2</td><td class=vellipsis>&hellip;</td><td>8.43333</td><td>9.58763</td><td>0</td><td>Night</td><td>0</td></tr>\n",
              "    <tr><td class='row_index'>1</td><td>2</td><td>2023-01-01<span class=sp>T</span>00:55:08</td><td>2023-01-01<span class=sp>T</span>01:01:27</td><td>1</td><td>1.1</td><td>1</td><td>N</td><td>43</td><td>237</td><td>1</td><td class=vellipsis>&hellip;</td><td>6.31667</td><td>7.18182</td><td>0</td><td>Night</td><td>0</td></tr>\n",
              "    <tr><td class='row_index'>2</td><td>2</td><td>2023-01-01<span class=sp>T</span>00:25:04</td><td>2023-01-01<span class=sp>T</span>00:37:49</td><td>1</td><td>2.51</td><td>1</td><td>N</td><td>48</td><td>238</td><td>1</td><td class=vellipsis>&hellip;</td><td>12.75</td><td>5.93625</td><td>0</td><td>Night</td><td>0</td></tr>\n",
              "  </tbody>\n",
              "  </table>\n",
              "  <div class='footer'>\n",
              "    <div class='frame_dimensions'>3 rows &times; 24 columns</div>\n",
              "  </div>\n",
              "</div>\n"
            ]
          },
          "metadata": {},
          "execution_count": 24
        }
      ],
      "source": [
        "# --- Trip Duration (in minutes) ---\n",
        "# Use pandas for datetime arithmetic (datatable doesn't support subtraction)\n",
        "df_pd = df[:, [\"tpep_pickup_datetime\", \"tpep_dropoff_datetime\"]].to_pandas()\n",
        "df_pd['tpep_pickup_datetime'] = pd.to_datetime(df_pd['tpep_pickup_datetime'])\n",
        "df_pd['tpep_dropoff_datetime'] = pd.to_datetime(df_pd['tpep_dropoff_datetime'])\n",
        "df_pd['trip_duration'] = (df_pd['tpep_dropoff_datetime'] - df_pd['tpep_pickup_datetime']).dt.total_seconds() / 60\n",
        "df[:, \"trip_duration\"] = df_pd['trip_duration'].values\n",
        "\n",
        "# --- Fare per mile (avoid division by zero) ---\n",
        "df[f.trip_distance > 0, \"fare_per_mile\"] = f.fare_amount / f.trip_distance\n",
        "\n",
        "# --- Extract hour ---\n",
        "df[:, \"pickup_hour\"] = dt.time.hour(f.tpep_pickup_datetime)\n",
        "\n",
        "# --- Time of day ---\n",
        "df[:, \"time_of_day\"] = ifelse(\n",
        "    (f.pickup_hour >= 6) & (f.pickup_hour < 12), \"Morning\",\n",
        "    ifelse(\n",
        "        (f.pickup_hour >= 12) & (f.pickup_hour < 18), \"Afternoon\",\n",
        "        ifelse(\n",
        "            (f.pickup_hour >= 18) & (f.pickup_hour < 22), \"Evening\", \"Night\"\n",
        "        )\n",
        "    )\n",
        ")\n",
        "\n",
        "# --- Is weekend? (Saturday=5, Sunday=6) ---\n",
        "df[:, \"is_weekend\"] = (dt.time.day_of_week(f.tpep_pickup_datetime) == 5) | \\\n",
        "                      (dt.time.day_of_week(f.tpep_pickup_datetime) == 6)\n",
        "\n",
        "df.head(3)"
      ]
    },
    {
      "cell_type": "markdown",
      "metadata": {
        "id": "3LPvY9hF9OEb"
      },
      "source": [
        "### Selecting Columns"
      ]
    },
    {
      "cell_type": "code",
      "execution_count": 25,
      "metadata": {
        "id": "Kd458ZQV9OEb",
        "colab": {
          "base_uri": "https://localhost:8080/",
          "height": 143
        },
        "outputId": "c2ec7c3f-803f-42e3-fd67-0a1bd7263892"
      },
      "outputs": [
        {
          "output_type": "execute_result",
          "data": {
            "text/plain": [
              "<Frame#79fe42927720 3x5>"
            ],
            "text/html": [
              "<div class='datatable'>\n",
              "  <table class='frame'>\n",
              "  <thead>\n",
              "    <tr class='colnames'><td class='row_index'></td><th>tpep_pickup_datetime</th><th>passenger_count</th><th>trip_distance</th><th>fare_amount</th><th>PULocationID</th></tr>\n",
              "    <tr class='coltypes'><td class='row_index'></td><td class='time' title='time64'>&#x25AA;&#x25AA;&#x25AA;&#x25AA;&#x25AA;&#x25AA;&#x25AA;&#x25AA;</td><td class='float' title='float64'>&#x25AA;&#x25AA;&#x25AA;&#x25AA;&#x25AA;&#x25AA;&#x25AA;&#x25AA;</td><td class='float' title='float64'>&#x25AA;&#x25AA;&#x25AA;&#x25AA;&#x25AA;&#x25AA;&#x25AA;&#x25AA;</td><td class='float' title='float64'>&#x25AA;&#x25AA;&#x25AA;&#x25AA;&#x25AA;&#x25AA;&#x25AA;&#x25AA;</td><td class='int' title='int32'>&#x25AA;&#x25AA;&#x25AA;&#x25AA;</td></tr>\n",
              "  </thead>\n",
              "  <tbody>\n",
              "    <tr><td class='row_index'>0</td><td>2023-01-01<span class=sp>T</span>00:32:10</td><td>1</td><td>0.97</td><td>9.3</td><td>161</td></tr>\n",
              "    <tr><td class='row_index'>1</td><td>2023-01-01<span class=sp>T</span>00:55:08</td><td>1</td><td>1.1</td><td>7.9</td><td>43</td></tr>\n",
              "    <tr><td class='row_index'>2</td><td>2023-01-01<span class=sp>T</span>00:25:04</td><td>1</td><td>2.51</td><td>14.9</td><td>48</td></tr>\n",
              "  </tbody>\n",
              "  </table>\n",
              "  <div class='footer'>\n",
              "    <div class='frame_dimensions'>3 rows &times; 5 columns</div>\n",
              "  </div>\n",
              "</div>\n"
            ]
          },
          "metadata": {},
          "execution_count": 25
        }
      ],
      "source": [
        "selected = df[:, [\"tpep_pickup_datetime\", \"passenger_count\", \"trip_distance\", \"fare_amount\", \"PULocationID\"]]\n",
        "selected.head(3)"
      ]
    },
    {
      "cell_type": "markdown",
      "metadata": {
        "id": "T5lqXHm59OEb"
      },
      "source": [
        "### Joining with Zone Lookup Data\n",
        "\n",
        "Python datatable does not support `table joins` natively. You must use pandas.`merge()` as a workaround"
      ]
    },
    {
      "cell_type": "code",
      "execution_count": 31,
      "metadata": {
        "id": "uvYYk-MX9OEc"
      },
      "outputs": [],
      "source": [
        "# Convert to pandas\n",
        "df_pd = df.to_pandas()\n",
        "zones_pd = zones.to_pandas()\n",
        "\n",
        "# Perform left join\n",
        "joined_pd = pd.merge(\n",
        "    df_pd,\n",
        "    zones_pd,\n",
        "    left_on=\"PULocationID\",\n",
        "    right_on=\"LocationID\",\n",
        "    how=\"left\"\n",
        ")\n",
        "\n",
        "# Convert back to datatable (optional)\n",
        "joined = dt.Frame(joined_pd)"
      ]
    },
    {
      "cell_type": "markdown",
      "metadata": {
        "id": "Y-zOQDAe9OEc"
      },
      "source": [
        "###  Filtering Rows"
      ]
    },
    {
      "cell_type": "code",
      "execution_count": 32,
      "metadata": {
        "id": "N-9m308l9OEc",
        "colab": {
          "base_uri": "https://localhost:8080/",
          "height": 203
        },
        "outputId": "1c4ed277-dfea-41bd-ba79-573e39a6c0a0"
      },
      "outputs": [
        {
          "output_type": "stream",
          "name": "stdout",
          "text": [
            "Filtered rows: 40222\n"
          ]
        },
        {
          "output_type": "execute_result",
          "data": {
            "text/plain": [
              "<Frame#79fe42911950 5x4>"
            ],
            "text/html": [
              "<div class='datatable'>\n",
              "  <table class='frame'>\n",
              "  <thead>\n",
              "    <tr class='colnames'><td class='row_index'></td><th>tpep_pickup_datetime</th><th>trip_distance</th><th>fare_amount</th><th>Borough</th></tr>\n",
              "    <tr class='coltypes'><td class='row_index'></td><td class='time' title='time64'>&#x25AA;&#x25AA;&#x25AA;&#x25AA;&#x25AA;&#x25AA;&#x25AA;&#x25AA;</td><td class='float' title='float64'>&#x25AA;&#x25AA;&#x25AA;&#x25AA;&#x25AA;&#x25AA;&#x25AA;&#x25AA;</td><td class='float' title='float64'>&#x25AA;&#x25AA;&#x25AA;&#x25AA;&#x25AA;&#x25AA;&#x25AA;&#x25AA;</td><td class='str' title='str32'>&#x25AA;&#x25AA;&#x25AA;&#x25AA;</td></tr>\n",
              "  </thead>\n",
              "  <tbody>\n",
              "    <tr><td class='row_index'>0</td><td>2023-01-01<span class=sp>T</span>00:27:12</td><td>11.7</td><td>45.7</td><td>Manhattan</td></tr>\n",
              "    <tr><td class='row_index'>1</td><td>2023-01-01<span class=sp>T</span>00:43:37</td><td>7.3</td><td>33.8</td><td>Manhattan</td></tr>\n",
              "    <tr><td class='row_index'>2</td><td>2023-01-01<span class=sp>T</span>00:34:44</td><td>3.23</td><td>26.1</td><td>Manhattan</td></tr>\n",
              "    <tr><td class='row_index'>3</td><td>2023-01-01<span class=sp>T</span>00:04:33</td><td>4.5</td><td>20.5</td><td>Manhattan</td></tr>\n",
              "    <tr><td class='row_index'>4</td><td>2023-01-01<span class=sp>T</span>00:19:12</td><td>5.7</td><td>26.8</td><td>Manhattan</td></tr>\n",
              "  </tbody>\n",
              "  </table>\n",
              "  <div class='footer'>\n",
              "    <div class='frame_dimensions'>5 rows &times; 4 columns</div>\n",
              "  </div>\n",
              "</div>\n"
            ]
          },
          "metadata": {},
          "execution_count": 32
        }
      ],
      "source": [
        "# Filter: passenger_count > 2 AND trip_distance > 5\n",
        "filtered = df[(f.passenger_count > 2) & (f.trip_distance > 5), :]\n",
        "print(\"Filtered rows:\", filtered.nrows)\n",
        "\n",
        "# Manhattan trips with fare > $20\n",
        "manhattan = joined[\n",
        "    (f.Borough == \"Manhattan\") & (f.fare_amount > 20),\n",
        "    [\"tpep_pickup_datetime\", \"trip_distance\", \"fare_amount\", \"Borough\"]\n",
        "]\n",
        "manhattan.head(5)"
      ]
    },
    {
      "cell_type": "markdown",
      "metadata": {
        "id": "zChCHRlJ9OEc"
      },
      "source": [
        "### Aggregation & Grouping"
      ]
    },
    {
      "cell_type": "code",
      "execution_count": 34,
      "metadata": {
        "id": "cKD0sv7Z9OEc",
        "colab": {
          "base_uri": "https://localhost:8080/"
        },
        "outputId": "b6b0ba25-3071-4cf8-d62e-7879baaf61ac"
      },
      "outputs": [
        {
          "output_type": "stream",
          "name": "stdout",
          "text": [
            "         Borough   avg_fare  trip_count\n",
            "0          Bronx  50.649144         818\n",
            "1       Brooklyn  53.814229        2173\n",
            "2            EWR  81.625806          31\n",
            "3      Manhattan  61.911018       65249\n",
            "4         Queens  64.634267      167777\n",
            "5  Staten Island  62.364162         185\n",
            "6        Unknown  59.351723        8058\n",
            "         Borough  total_trips  avg_distance\n",
            "0          Bronx         4162      5.296593\n",
            "1       Brooklyn        18076      5.677405\n",
            "2            EWR          410      1.594780\n",
            "3      Manhattan      2715369      2.883807\n",
            "4         Queens       286645     12.320490\n",
            "5  Staten Island          341     11.356774\n",
            "6        Unknown        41763      7.362869\n"
          ]
        }
      ],
      "source": [
        "# Convert to pandas for aggregation\n",
        "joined_pd = joined.to_pandas()\n",
        "\n",
        "# Long trips (>10 miles) by Borough using pandas\n",
        "long_trips_pd = joined_pd[\n",
        "    joined_pd['trip_distance'] > 10\n",
        "].groupby('Borough').agg(\n",
        "    avg_fare=('fare_amount', 'mean'),\n",
        "    trip_count=('fare_amount', 'count')\n",
        ").reset_index()\n",
        "print(long_trips_pd)\n",
        "\n",
        "# Total trips and avg distance by Borough using pandas\n",
        "borough_summary_pd = joined_pd.groupby('Borough').agg(\n",
        "    total_trips=('trip_distance', 'count'),\n",
        "    avg_distance=('trip_distance', 'mean')\n",
        ").reset_index()\n",
        "print(borough_summary_pd)"
      ]
    },
    {
      "cell_type": "markdown",
      "metadata": {
        "id": "AljmzAtO9OEd"
      },
      "source": [
        "### Summary Statistics"
      ]
    },
    {
      "cell_type": "code",
      "execution_count": 35,
      "metadata": {
        "id": "pTB5uVBH9OEd",
        "colab": {
          "base_uri": "https://localhost:8080/"
        },
        "outputId": "88273b68-969c-49a3-8691-64d741188402"
      },
      "outputs": [
        {
          "output_type": "stream",
          "name": "stdout",
          "text": [
            "   | mean_fare  median_fare  mean_distance  mean_passengers\n",
            "   |   float64      float64        float64          float64\n",
            "-- + ---------  -----------  -------------  ---------------\n",
            " 0 |   18.3671         12.8        3.84734          1.36253\n",
            "[1 row x 4 columns]\n",
            "\n"
          ]
        }
      ],
      "source": [
        "# Multiple stats\n",
        "summary = df[:, {\n",
        "    \"mean_fare\": dt.mean(f.fare_amount),\n",
        "    \"median_fare\": dt.median(f.fare_amount),\n",
        "    \"mean_distance\": dt.mean(f.trip_distance),\n",
        "    \"mean_passengers\": dt.mean(f.passenger_count)\n",
        "}]\n",
        "print(summary)"
      ]
    },
    {
      "cell_type": "markdown",
      "metadata": {
        "id": "XINxWAyg9OEd"
      },
      "source": [
        "### Column Reordering & Renaming"
      ]
    },
    {
      "cell_type": "code",
      "execution_count": 36,
      "metadata": {
        "id": "QlTjLRON9OEd",
        "colab": {
          "base_uri": "https://localhost:8080/",
          "height": 143
        },
        "outputId": "4b606268-61fe-4898-bbd6-0d05c427ab77"
      },
      "outputs": [
        {
          "output_type": "execute_result",
          "data": {
            "text/plain": [
              "<Frame#79fd654cc150 3x6>"
            ],
            "text/html": [
              "<div class='datatable'>\n",
              "  <table class='frame'>\n",
              "  <thead>\n",
              "    <tr class='colnames'><td class='row_index'></td><th>PICKUP_ZONE_ID</th><th>Borough</th><th>DOLocationID</th><th>Zone</th><th>pickup_year</th><th>fare_amount</th></tr>\n",
              "    <tr class='coltypes'><td class='row_index'></td><td class='int' title='int32'>&#x25AA;&#x25AA;&#x25AA;&#x25AA;</td><td class='str' title='str32'>&#x25AA;&#x25AA;&#x25AA;&#x25AA;</td><td class='int' title='int32'>&#x25AA;&#x25AA;&#x25AA;&#x25AA;</td><td class='str' title='str32'>&#x25AA;&#x25AA;&#x25AA;&#x25AA;</td><td class='int' title='int32'>&#x25AA;&#x25AA;&#x25AA;&#x25AA;</td><td class='float' title='float64'>&#x25AA;&#x25AA;&#x25AA;&#x25AA;&#x25AA;&#x25AA;&#x25AA;&#x25AA;</td></tr>\n",
              "  </thead>\n",
              "  <tbody>\n",
              "    <tr><td class='row_index'>0</td><td>161</td><td>Manhattan</td><td>141</td><td>Midtown Center</td><td>2023</td><td>9.3</td></tr>\n",
              "    <tr><td class='row_index'>1</td><td>43</td><td>Manhattan</td><td>237</td><td>Central Park</td><td>2023</td><td>7.9</td></tr>\n",
              "    <tr><td class='row_index'>2</td><td>48</td><td>Manhattan</td><td>238</td><td>Clinton East</td><td>2023</td><td>14.9</td></tr>\n",
              "  </tbody>\n",
              "  </table>\n",
              "  <div class='footer'>\n",
              "    <div class='frame_dimensions'>3 rows &times; 6 columns</div>\n",
              "  </div>\n",
              "</div>\n"
            ]
          },
          "metadata": {},
          "execution_count": 36
        }
      ],
      "source": [
        "# Add year\n",
        "joined[:, \"pickup_year\"] = dt.time.year(f.tpep_pickup_datetime)\n",
        "\n",
        "# Reorder\n",
        "new_order = [\"PULocationID\", \"Borough\", \"DOLocationID\", \"Zone\", \"pickup_year\", \"fare_amount\"]\n",
        "joined = joined[:, new_order]\n",
        "\n",
        "# Rename\n",
        "joined.names = {\"PULocationID\": \"PICKUP_ZONE_ID\"}\n",
        "\n",
        "joined.head(3)"
      ]
    },
    {
      "cell_type": "markdown",
      "metadata": {
        "id": "L2yO46cs9OEd"
      },
      "source": [
        "### Reshaping Data"
      ]
    },
    {
      "cell_type": "code",
      "execution_count": 41,
      "metadata": {
        "id": "KHQimyGw9OEd",
        "colab": {
          "base_uri": "https://localhost:8080/"
        },
        "outputId": "69479949-5235-412c-c6c0-e97da113d46c"
      },
      "outputs": [
        {
          "output_type": "stream",
          "name": "stdout",
          "text": [
            "Borough  pickup_year      Bronx   Brooklyn         EWR  Manhattan     Queens  \\\n",
            "0               2008        NaN        NaN         NaN        NaN  35.000000   \n",
            "1               2022        NaN  45.000000  117.500000  18.025000  39.585714   \n",
            "2               2023  30.242775  26.808403   87.842304  14.775313  49.983325   \n",
            "\n",
            "Borough  Staten Island   Unknown  \n",
            "0                  NaN       NaN  \n",
            "1                  NaN  42.50000  \n",
            "2             48.74305  29.12696  \n",
            "   pickup_year   Borough  fare_amount\n",
            "0         2008     Bronx          NaN\n",
            "1         2022     Bronx          NaN\n",
            "2         2023     Bronx    30.242775\n",
            "3         2008  Brooklyn          NaN\n",
            "4         2022  Brooklyn    45.000000\n"
          ]
        }
      ],
      "source": [
        "# Convert to pandas for pivoting\n",
        "pivot_data_pd = joined[:, [\"pickup_year\", \"Borough\", \"fare_amount\"]].to_pandas()\n",
        "\n",
        "# Pivot wider using pandas\n",
        "wide_pd = pivot_data_pd.pivot_table(\n",
        "    index=\"pickup_year\",\n",
        "    columns=\"Borough\",\n",
        "    values=\"fare_amount\",\n",
        "    aggfunc='mean'\n",
        ").reset_index()\n",
        "print(wide_pd.head())\n",
        "\n",
        "# Melt back to long using pandas\n",
        "long_pd = wide_pd.melt(\n",
        "    id_vars=[\"pickup_year\"],\n",
        "    var_name=\"Borough\",\n",
        "    value_name=\"fare_amount\"\n",
        ")\n",
        "print(long_pd.head())"
      ]
    },
    {
      "cell_type": "markdown",
      "metadata": {
        "id": "7xoVPdSN9OEe"
      },
      "source": [
        "### Visualization"
      ]
    },
    {
      "cell_type": "code",
      "execution_count": 44,
      "metadata": {
        "id": "T4VVaetq9OEe",
        "colab": {
          "base_uri": "https://localhost:8080/",
          "height": 607
        },
        "outputId": "b3721bd2-1d9d-433c-b1b7-0984240d4fc0"
      },
      "outputs": [
        {
          "output_type": "display_data",
          "data": {
            "text/plain": [
              "<Figure size 800x600 with 1 Axes>"
            ],
            "image/png": "[encoded data removed]"
          },
          "metadata": {}
        }
      ],
      "source": [
        "# Convert to pandas for plotting\n",
        "lt_pd = long_trips_pd\n",
        "\n",
        "plt.figure(figsize=(8, 6))\n",
        "sns.barplot(data=lt_pd, x=\"Borough\", y=\"avg_fare\")\n",
        "plt.title(\"Average Fare for Trips > 10 Miles by Borough (Jan 2023)\")\n",
        "plt.ylabel(\"Average Fare ($)\")\n",
        "plt.xticks(rotation=45)\n",
        "plt.tight_layout()\n",
        "plt.show()"
      ]
    },
    {
      "cell_type": "markdown",
      "metadata": {
        "id": "_xbJqKnY9OEe"
      },
      "source": [
        "## Summary and Conclusions\n",
        "\n",
        "This notebook demonstrates data wrangling using `datatable` for efficient handling of large datasets, including loading, basic feature engineering, selection, and filtering. For more complex operations like joining, advanced aggregations, reshaping, and visualization, it transitions to using pandas and seaborn due to current limitations or implementation details in `datatable`.\n"
      ]
    },
    {
      "cell_type": "markdown",
      "source": [
        "## Resources"
      ],
      "metadata": {
        "id": "PlZJNVbuV8Ec"
      }
    },
    {
      "cell_type": "markdown",
      "metadata": {
        "id": "f683046a"
      },
      "source": [
        "## Resources\n",
        "\n",
        "*   **datatable Documentation:** The official documentation for the `datatable` Python library provides detailed information on its features and usage: [https://datatable.readthedocs.io/en/latest/](https://datatable.readthedocs.io/en/latest/)\n",
        "*   **pandas Documentation:** The comprehensive documentation for the `pandas` library is an essential resource for data manipulation and analysis in Python: [https://pandas.pydata.org/docs/](https://pandas.pydata.org/docs/)\n",
        "*   **Seaborn Documentation:** The official documentation for `seaborn` provides examples and guides for creating statistical visualizations: [https://seaborn.pydata.org/](https://seaborn.pydata.org/)\n",
        "*   **NYC Taxi & Limousine Commission (TLC) Data:** The source of the trip data and zone lookup file used in this notebook: [https://www.nyc.gov/site/tlc/about/tlc-trip-record-data.page](https://www.nyc.gov/site/tlc/about/tlc-trip-record-data.page)\n",
        "*   **Dropbox Data Link:** The specific Dropbox link provided in the notebook for downloading the dataset: [https://www.dropbox.com/scl/fi/ws1ol2kks3ms7rguoh310/yellow_tripdata_2023.parquet?rlkey=3tvgguudixfcizoet9vrxzwvl&dl=0](https://www.dropbox.com/scl/fi/ws1ol2kks3ms7rguoh310/yellow_tripdata_2023.parquet?rlkey=3tvgguudixfcizoet9vrxzwvl&dl=0)\n",
        "*   **PyArrow:** A library for working with Apache Arrow, often used for efficient data interchange: [https://arrow.apache.org/docs/python/](https://arrow.apache.org/docs/python/)\n",
        "*   **Fastparquet:** A Python library for reading and writing Parquet files: [https://github.com/dask/fastparquet](https://github.com/dask/fastparquet)"
      ]
    }
  ],
  "metadata": {
    "kernelspec": {
      "display_name": "Python 3",
      "language": "python",
      "name": "python3"
    },
    "language_info": {
      "name": "python",
      "version": "3.10.0"
    },
    "colab": {
      "provenance": [],
      "include_colab_link": true
    }
  },
  "nbformat": 4,
  "nbformat_minor": 0
}