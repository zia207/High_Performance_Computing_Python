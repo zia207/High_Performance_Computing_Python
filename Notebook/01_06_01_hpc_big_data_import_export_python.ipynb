{
  "nbformat": 4,
  "nbformat_minor": 0,
  "metadata": {
    "colab": {
      "provenance": [],
      "toc_visible": true,
      "mount_file_id": "1oWBqe8Q6U0bjfytHUbCsTXjB0XyQDd7l",
      "authorship_tag": "ABX9TyNbpu/PTDPDnU7xLqS1lRxY",
      "include_colab_link": true
    },
    "kernelspec": {
      "name": "python3",
      "display_name": "Python 3"
    },
    "language_info": {
      "name": "python"
    }
  },
  "cells": [
    {
      "cell_type": "markdown",
      "metadata": {
        "id": "view-in-github",
        "colab_type": "text"
      },
      "source": [
        "<a href=\"https://colab.research.google.com/github/zia207/High_Performance_Computing_Python/blob/main/Notebook/01_06_01_hpc_big_data_import_export_python.ipynb\" target=\"_parent\"><img src=\"https://colab.research.google.com/assets/colab-badge.svg\" alt=\"Open In Colab\"/></a>"
      ]
    },
    {
      "cell_type": "markdown",
      "source": [
        "![alt text](http://drive.google.com/uc?export=view&id=1IFEWet-Aw4DhkkVe1xv_2YYqlvRe9m5_)"
      ],
      "metadata": {
        "id": "P-f5leYEYv6J"
      }
    },
    {
      "cell_type": "markdown",
      "source": [
        "# Data Import and Export in Python with HPC\n",
        "\n",
        "When working with large and complex datasets in Python, efficient data import and export methods are essential. Large datasets can overwhelm basic tools, causing slow and inefficient processes. Using optimized libraries and high-performance computing (HPC) strategies ensures quick, reliable, and scalable data analysis. This tutorial covers Python libraries like pandas, pyarrow, fastparquet, and dask, which are built for managing big data efficiently, especially in HPC environments. We'll use the NYC Yellow Taxi Trip Data 2023 as a case study."
      ],
      "metadata": {
        "id": "_3dbwzNPY6VA"
      }
    },
    {
      "cell_type": "markdown",
      "source": [
        "## Key Tools and Libraries in Python\n",
        "\n",
        "Python offers several libraries for big data import/export, optimized for performance and scalability:\n",
        "\n",
        "-   **pandas**: A powerful library for data manipulation, with efficient CSV and Parquet file handling via read_csv and to_csv.\n",
        "-   **pyarrow**: Provides an interface to Apache Arrow, enabling efficient columnar data processing with support for Parquet and Feather formats.\n",
        "-   **fastparquet**: A lightweight library for reading and writing Parquet files, optimized for speed and memory efficiency.\n",
        "-   **dask**: Enables parallel and distributed computing for large datasets, handling data that exceeds memory by processing in chunks.\n",
        "-   **SQLAlchemy** with **psycopg2**/**pymysql**: Facilitates interaction with SQL databases, allowing efficient querying of large datasets.\n",
        "-   **dask.distributed**: Integrates with distributed systems like HPC clusters or cloud storage for scalable data processing.\n",
        "- **datatable**: As the name suggests, the package is closely related to R's `data.table` and attempts to mimic its core algorithms and API. It is close in spirit to `pandas` or `SFrame`; however we put specific emphasis on speed and big data support\n",
        "- **feather-format**: Simple wrapper library to the `Apache Arrow-based` `Feather` File Format"
      ],
      "metadata": {
        "id": "UPFcC2JDZAH6"
      }
    },
    {
      "cell_type": "markdown",
      "source": [
        "## Challenges and Considerations\n",
        "\n",
        "Handling big data in Python presents challenges like memory constraints, processing speed, and data format compatibility. Key considerations include:\n",
        "\n",
        "-   **Memory Management**: Utilize libraries such as dask or pyarrow to process data in chunks or offload computation to distributed systems.\n",
        "-   **File Formats**: Prefer columnar formats, such as Parquet or Feather, for compression and faster I/O compared to CSV.\n",
        "-   **Parallel Processing**: Leverage HPC clusters or dask for parallelized data operations.\n",
        "-   **Scalability**: Integrate with distributed frameworks (e.g., Dask on HPC) to handle datasets exceeding local memory."
      ],
      "metadata": {
        "id": "zZfMBztRZZKS"
      }
    },
    {
      "cell_type": "markdown",
      "source": [
        "## Challenges and Considerations\n",
        "\n",
        "Handling big data in Python presents challenges like memory constraints, processing speed, and data format compatibility. Key considerations include:\n",
        "\n",
        "-   **Memory Management**: Utilize libraries such as dask or pyarrow to process data in chunks or offload computation to distributed systems.\n",
        "-   **File Formats**: Prefer columnar formats, such as Parquet or Feather, for compression and faster I/O compared to CSV.\n",
        "-   **Parallel Processing**: Leverage HPC clusters or dask for parallelized data operations.\n",
        "-   **Scalability**: Integrate with distributed frameworks (e.g., Dask on HPC) to handle datasets exceeding local memory."
      ],
      "metadata": {
        "id": "0RBYmOJ3Z0bX"
      }
    },
    {
      "cell_type": "markdown",
      "source": [
        "## Best Practices\n",
        "\n",
        "To optimize big data workflows in Python:\n",
        "\n",
        "1.  Use memory-efficient libraries like pyarrow or dask for file operations.\n",
        "2.  Prefer columnar formats like Parquet to reduce I/O bottlenecks.\n",
        "3.  Query only necessary data from databases to minimize memory usage.\n",
        "4.  Profile and benchmark I/O operations to identify performance bottlenecks.\n",
        "5.  Utilize HPC clusters or cloud-based systems for massive datasets.\n"
      ],
      "metadata": {
        "id": "mazj4GlzaY2f"
      }
    },
    {
      "cell_type": "markdown",
      "source": [
        "## Check and Install Required Python Packages"
      ],
      "metadata": {
        "id": "VYwF0gldZ8xp"
      }
    },
    {
      "cell_type": "code",
      "source": [
        "import pkg_resources\n",
        "import subprocess\n",
        "import sys\n",
        "\n",
        "# List of required packages\n",
        "packages = [\n",
        "    'pandas',\n",
        "    'pyarrow',\n",
        "    'fastparquet',\n",
        "    'dask',\n",
        "    'dask[distributed]',\n",
        "    'sqlalchemy',\n",
        "    'psycopg2-binary',\n",
        "    'datatable',\n",
        "    'feather-format'\n",
        "]\n",
        "\n",
        "# Check for missing packages and install them\n",
        "for package in packages:\n",
        "    try:\n",
        "        pkg_resources.get_distribution(package)\n",
        "    except pkg_resources.DistributionNotFound:\n",
        "        print(f\"Installing {package}...\")\n",
        "        subprocess.check_call([sys.executable, \"-m\", \"pip\", \"install\", package])\n",
        "\n",
        "# Verify installed packages\n",
        "for package in packages:\n",
        "    try:\n",
        "        pkg_resources.get_distribution(package)\n",
        "        print(f\"{package} is installed.\")\n",
        "    except pkg_resources.DistributionNotFound:\n",
        "        print(f\"{package} failed to install.\")"
      ],
      "metadata": {
        "colab": {
          "base_uri": "https://localhost:8080/"
        },
        "id": "q4VpCmqUZ6r4",
        "outputId": "2d41d439-ed65-4e64-d42f-5609e75b3a96"
      },
      "execution_count": null,
      "outputs": [
        {
          "output_type": "stream",
          "name": "stderr",
          "text": [
            "/tmp/ipython-input-3325339338.py:1: DeprecationWarning: pkg_resources is deprecated as an API. See https://setuptools.pypa.io/en/latest/pkg_resources.html\n",
            "  import pkg_resources\n"
          ]
        },
        {
          "output_type": "stream",
          "name": "stdout",
          "text": [
            "pandas is installed.\n",
            "pyarrow is installed.\n",
            "fastparquet is installed.\n",
            "dask is installed.\n",
            "dask[distributed] is installed.\n",
            "sqlalchemy is installed.\n",
            "psycopg2-binary is installed.\n",
            "datatable is installed.\n",
            "feather-format is installed.\n"
          ]
        }
      ]
    },
    {
      "cell_type": "markdown",
      "source": [
        "## Data\n",
        "\n",
        "The **NYC Yellow Taxi Trip Data 2023** is a large dataset (\\~30–40 million records) from the New York City Taxi and Limousine Commission (TLC). It contains 12 monthly Parquet files (yellow_tripdata_2023-01.parquet to yellow_tripdata_2023-12.parquet), with columns like VendorID, tpep_pickup_datetime, passenger_count, trip_distance, fare_amount, etc. Available at NYC TLC, this dataset is ideal for urban mobility analysis and big data processing.\n"
      ],
      "metadata": {
        "id": "NlOklwBualM1"
      }
    },
    {
      "cell_type": "markdown",
      "source": [
        "### Dataset Overview\n",
        "\n",
        "The yellow_tripdata_2023-01.parquet file includes:\n",
        "\n",
        "-   **VendorID**: Integer code for the technology provider.\n",
        "-   **tpep_pickup_datetime**: Datetime of trip start.\n",
        "-   **passenger_count**: Integer number of passengers.\n",
        "-   **trip_distance**: Float distance in miles.\n",
        "-   **fare_amount**: Float base fare.\n",
        "-   **total_amount**: Float total charged.\n"
      ],
      "metadata": {
        "id": "gkF1S_3RaycM"
      }
    },
    {
      "cell_type": "markdown",
      "source": [
        "##  Mount Google Drive\n",
        "\n",
        "Then you must create a folder in Goole drive named \"R\" to install all packages permanently. Before installing R-package in Python runtime. You have to mount Google Drive and follow on-screen instruction:"
      ],
      "metadata": {
        "id": "3t3Fu5gObBRm"
      }
    },
    {
      "cell_type": "code",
      "source": [
        "from google.colab import drive\n",
        "drive.mount('/content/drive')"
      ],
      "metadata": {
        "colab": {
          "base_uri": "https://localhost:8080/"
        },
        "id": "O-fF12DrbCIU",
        "outputId": "87a374f0-878f-40f2-cd13-5ba7a64bb6f5"
      },
      "execution_count": null,
      "outputs": [
        {
          "output_type": "stream",
          "name": "stdout",
          "text": [
            "Drive already mounted at /content/drive; to attempt to forcibly remount, call drive.mount(\"/content/drive\", force_remount=True).\n"
          ]
        }
      ]
    },
    {
      "cell_type": "markdown",
      "source": [
        "## Download Monthly Data Files"
      ],
      "metadata": {
        "id": "PqY54a4-a1dy"
      }
    },
    {
      "cell_type": "code",
      "source": [
        "import os\n",
        "import urllib.request\n",
        "\n",
        "# Base URL for TLC data\n",
        "base_url = \"https://d37ci6vzurychx.cloudfront.net/trip-data/\"\n",
        "# Directory to save files (update with your local path)\n",
        "save_dir = \"/content/drive/MyDrive/Data/CSV_files/\"\n",
        "os.makedirs(save_dir, exist_ok=True)\n",
        "\n",
        "# Download each month's file\n",
        "for month in range(1, 13):\n",
        "    file_name = f\"yellow_tripdata_2023-{month:02d}.parquet\"\n",
        "    url = base_url + file_name\n",
        "    dest_file = os.path.join(save_dir, file_name)\n",
        "\n",
        "    if not os.path.exists(dest_file):\n",
        "        print(f\"Downloading {file_name}...\")\n",
        "        urllib.request.urlretrieve(url, dest_file)\n",
        "    else:\n",
        "        print(f\"{file_name} already exists, skipping download.\")"
      ],
      "metadata": {
        "colab": {
          "base_uri": "https://localhost:8080/"
        },
        "id": "PMmZCJoSbLwa",
        "outputId": "54997ad8-f9f0-4ba3-dea4-f61d08a2feea"
      },
      "execution_count": null,
      "outputs": [
        {
          "output_type": "stream",
          "name": "stdout",
          "text": [
            "Downloading yellow_tripdata_2023-01.parquet...\n",
            "Downloading yellow_tripdata_2023-02.parquet...\n",
            "Downloading yellow_tripdata_2023-03.parquet...\n",
            "Downloading yellow_tripdata_2023-04.parquet...\n",
            "Downloading yellow_tripdata_2023-05.parquet...\n",
            "Downloading yellow_tripdata_2023-06.parquet...\n",
            "Downloading yellow_tripdata_2023-07.parquet...\n",
            "Downloading yellow_tripdata_2023-08.parquet...\n",
            "Downloading yellow_tripdata_2023-09.parquet...\n",
            "Downloading yellow_tripdata_2023-10.parquet...\n",
            "Downloading yellow_tripdata_2023-11.parquet...\n",
            "Downloading yellow_tripdata_2023-12.parquet...\n"
          ]
        }
      ]
    },
    {
      "cell_type": "markdown",
      "source": [
        "## Combine Monthly Files into a Single Parquet File"
      ],
      "metadata": {
        "id": "XoVJgkjscFk6"
      }
    },
    {
      "cell_type": "code",
      "source": [
        "import pyarrow.parquet as pq\n",
        "import pyarrow as pa\n",
        "import glob\n",
        "import pandas as pd\n",
        "\n",
        "# Directory containing monthly Parquet files\n",
        "save_dir = \"/content/drive/MyDrive/Data/CSV_files/\"\n",
        "file_paths = glob.glob(f\"{save_dir}/yellow_tripdata_2023-*.parquet\")\n",
        "\n",
        "# Verify all 12 files exist\n",
        "if len(file_paths) != 12:\n",
        "    raise ValueError(f\"Expected 12 Parquet files, found {len(file_paths)}.\")\n",
        "\n",
        "# Read each Parquet file into a pandas DataFrame\n",
        "dfs = [pd.read_parquet(file) for file in file_paths]\n",
        "\n",
        "# Concatenate the DataFrames\n",
        "combined_df = pd.concat(dfs, ignore_index=True)\n",
        "\n",
        "# Combine into a single Parquet file\n",
        "output_file = os.path.join(save_dir, \"yellow_tripdata_2023.parquet\")\n",
        "combined_df.to_parquet(output_file, index=False)\n",
        "\n",
        "\n",
        "print(f\"Combined file saved to: {output_file}\")"
      ],
      "metadata": {
        "id": "78o7mPR3cJVK"
      },
      "execution_count": null,
      "outputs": []
    },
    {
      "cell_type": "markdown",
      "source": [
        "## Load Data\n",
        "\n",
        "For this tutorial, we'll use only the January dataset `(yellow_tripdata_2023-01.parquet`)."
      ],
      "metadata": {
        "id": "2eay3qNPcvjc"
      }
    },
    {
      "cell_type": "code",
      "source": [
        "import pandas as pd\n",
        "\n",
        "# Define data folder\n",
        "data_folder = \"/content/drive/MyDrive/Data/CSV_files/\"\n",
        "\n",
        "# Read January data with pandas\n",
        "df = pd.read_parquet(f\"{data_folder}yellow_tripdata_2023-01.parquet\")\n",
        "print(df.info())"
      ],
      "metadata": {
        "colab": {
          "base_uri": "https://localhost:8080/"
        },
        "id": "OphE9xuedh6U",
        "outputId": "2a8ff39b-dabd-4756-c803-094cdfab38af"
      },
      "execution_count": null,
      "outputs": [
        {
          "output_type": "stream",
          "name": "stdout",
          "text": [
            "<class 'pandas.core.frame.DataFrame'>\n",
            "RangeIndex: 3066766 entries, 0 to 3066765\n",
            "Data columns (total 19 columns):\n",
            " #   Column                 Dtype         \n",
            "---  ------                 -----         \n",
            " 0   VendorID               int64         \n",
            " 1   tpep_pickup_datetime   datetime64[us]\n",
            " 2   tpep_dropoff_datetime  datetime64[us]\n",
            " 3   passenger_count        float64       \n",
            " 4   trip_distance          float64       \n",
            " 5   RatecodeID             float64       \n",
            " 6   store_and_fwd_flag     object        \n",
            " 7   PULocationID           int64         \n",
            " 8   DOLocationID           int64         \n",
            " 9   payment_type           int64         \n",
            " 10  fare_amount            float64       \n",
            " 11  extra                  float64       \n",
            " 12  mta_tax                float64       \n",
            " 13  tip_amount             float64       \n",
            " 14  tolls_amount           float64       \n",
            " 15  improvement_surcharge  float64       \n",
            " 16  total_amount           float64       \n",
            " 17  congestion_surcharge   float64       \n",
            " 18  airport_fee            float64       \n",
            "dtypes: datetime64[us](2), float64(12), int64(4), object(1)\n",
            "memory usage: 444.6+ MB\n",
            "None\n"
          ]
        }
      ]
    },
    {
      "cell_type": "markdown",
      "source": [
        "## pandas\n",
        "\n",
        "The pandas library is a cornerstone of data analysis in Python, offering a high-performance DataFrame object for data manipulation. It supports efficient reading and writing of large datasets in formats like CSV and Parquet."
      ],
      "metadata": {
        "id": "enpey5d8gBXW"
      }
    },
    {
      "cell_type": "markdown",
      "source": [
        "Reading/Writing CSV with pandas\n",
        "\n",
        "The read_csv function is optimized for large datasets, with options to specify chunks, dtypes, and columns to reduce memory usage.\n",
        "\n"
      ],
      "metadata": {
        "id": "RDWedhbugGkL"
      }
    },
    {
      "cell_type": "code",
      "source": [
        "# Read Parquet\n",
        "df_pandas = pd.read_parquet(f\"{data_folder}yellow_tripdata_2023-01.parquet\")\n",
        "print(df_pandas.info())\n",
        "\n",
        "# Write CSV\n",
        "df_pandas.to_csv(f\"{data_folder}yellow_trip_data_2023_01_pandas.csv\", index=False)"
      ],
      "metadata": {
        "colab": {
          "base_uri": "https://localhost:8080/"
        },
        "id": "9R8F2fVugH2i",
        "outputId": "ae7b98c2-019a-42f8-e326-6e4b4b439a12"
      },
      "execution_count": null,
      "outputs": [
        {
          "output_type": "stream",
          "name": "stdout",
          "text": [
            "<class 'pandas.core.frame.DataFrame'>\n",
            "RangeIndex: 3066766 entries, 0 to 3066765\n",
            "Data columns (total 19 columns):\n",
            " #   Column                 Dtype         \n",
            "---  ------                 -----         \n",
            " 0   VendorID               int64         \n",
            " 1   tpep_pickup_datetime   datetime64[us]\n",
            " 2   tpep_dropoff_datetime  datetime64[us]\n",
            " 3   passenger_count        float64       \n",
            " 4   trip_distance          float64       \n",
            " 5   RatecodeID             float64       \n",
            " 6   store_and_fwd_flag     object        \n",
            " 7   PULocationID           int64         \n",
            " 8   DOLocationID           int64         \n",
            " 9   payment_type           int64         \n",
            " 10  fare_amount            float64       \n",
            " 11  extra                  float64       \n",
            " 12  mta_tax                float64       \n",
            " 13  tip_amount             float64       \n",
            " 14  tolls_amount           float64       \n",
            " 15  improvement_surcharge  float64       \n",
            " 16  total_amount           float64       \n",
            " 17  congestion_surcharge   float64       \n",
            " 18  airport_fee            float64       \n",
            "dtypes: datetime64[us](2), float64(12), int64(4), object(1)\n",
            "memory usage: 444.6+ MB\n",
            "None\n"
          ]
        }
      ]
    },
    {
      "cell_type": "markdown",
      "source": [
        "## datatable\n",
        "\n",
        "The `datatable` package is a high-performance Python library designed for efficient data manipulation and analysis, particularly for large datasets. It provides a Frame object, similar to a pandas DataFrame, but is optimized for speed and memory efficiency, leveraging multi-threaded operations and a columnar data structure. Built on top of C++ for performance, `datatable` excels in tasks like reading/writing large CSV files, filtering, grouping, and joining data, making it a powerful alternative to pandas for big data workflows."
      ],
      "metadata": {
        "id": "C51xs4tDh58B"
      }
    },
    {
      "cell_type": "markdown",
      "source": [
        "### Rading a large CSV file"
      ],
      "metadata": {
        "id": "TEQASMl0it2O"
      }
    },
    {
      "cell_type": "code",
      "source": [
        "import time\n",
        "import pandas as pd\n",
        "from datatable import dt, fread\n",
        "\n",
        "# Define the data folder and file path\n",
        "file_path = f\"{data_folder}yellow_trip_data_2023_01_pandas.csv\"\n",
        "df_dt = fread(file_path)\n",
        "df_dt.head()"
      ],
      "metadata": {
        "colab": {
          "base_uri": "https://localhost:8080/",
          "height": 313
        },
        "id": "9l_GYpYoqS8f",
        "outputId": "18d94293-f544-409a-ed48-592941dd4152"
      },
      "execution_count": null,
      "outputs": [
        {
          "output_type": "execute_result",
          "data": {
            "text/plain": [
              "<Frame#783d7eeb80c0 10x19>"
            ],
            "text/html": [
              "<div class='datatable'>\n",
              "  <table class='frame'>\n",
              "  <thead>\n",
              "    <tr class='colnames'><td class='row_index'></td><th>VendorID</th><th>tpep_pickup_datetime</th><th>tpep_dropoff_datetime</th><th>passenger_count</th><th>trip_distance</th><th>RatecodeID</th><th>store_and_fwd_flag</th><th>PULocationID</th><th>DOLocationID</th><th>payment_type</th><th class='vellipsis'>&hellip;</th><th>tolls_amount</th><th>improvement_surcharge</th><th>total_amount</th><th>congestion_surcharge</th><th>airport_fee</th></tr>\n",
              "    <tr class='coltypes'><td class='row_index'></td><td class='int' title='int32'>&#x25AA;&#x25AA;&#x25AA;&#x25AA;</td><td class='time' title='time64'>&#x25AA;&#x25AA;&#x25AA;&#x25AA;&#x25AA;&#x25AA;&#x25AA;&#x25AA;</td><td class='time' title='time64'>&#x25AA;&#x25AA;&#x25AA;&#x25AA;&#x25AA;&#x25AA;&#x25AA;&#x25AA;</td><td class='float' title='float64'>&#x25AA;&#x25AA;&#x25AA;&#x25AA;&#x25AA;&#x25AA;&#x25AA;&#x25AA;</td><td class='float' title='float64'>&#x25AA;&#x25AA;&#x25AA;&#x25AA;&#x25AA;&#x25AA;&#x25AA;&#x25AA;</td><td class='float' title='float64'>&#x25AA;&#x25AA;&#x25AA;&#x25AA;&#x25AA;&#x25AA;&#x25AA;&#x25AA;</td><td class='str' title='str32'>&#x25AA;&#x25AA;&#x25AA;&#x25AA;</td><td class='int' title='int32'>&#x25AA;&#x25AA;&#x25AA;&#x25AA;</td><td class='int' title='int32'>&#x25AA;&#x25AA;&#x25AA;&#x25AA;</td><td class='int' title='int32'>&#x25AA;&#x25AA;&#x25AA;&#x25AA;</td><td></td><td class='float' title='float64'>&#x25AA;&#x25AA;&#x25AA;&#x25AA;&#x25AA;&#x25AA;&#x25AA;&#x25AA;</td><td class='float' title='float64'>&#x25AA;&#x25AA;&#x25AA;&#x25AA;&#x25AA;&#x25AA;&#x25AA;&#x25AA;</td><td class='float' title='float64'>&#x25AA;&#x25AA;&#x25AA;&#x25AA;&#x25AA;&#x25AA;&#x25AA;&#x25AA;</td><td class='float' title='float64'>&#x25AA;&#x25AA;&#x25AA;&#x25AA;&#x25AA;&#x25AA;&#x25AA;&#x25AA;</td><td class='float' title='float64'>&#x25AA;&#x25AA;&#x25AA;&#x25AA;&#x25AA;&#x25AA;&#x25AA;&#x25AA;</td></tr>\n",
              "  </thead>\n",
              "  <tbody>\n",
              "    <tr><td class='row_index'>0</td><td>2</td><td>2023-01-01<span class=sp>T</span>00:32:10</td><td>2023-01-01<span class=sp>T</span>00:40:36</td><td>1</td><td>0.97</td><td>1</td><td>N</td><td>161</td><td>141</td><td>2</td><td class=vellipsis>&hellip;</td><td>0</td><td>1</td><td>14.3</td><td>2.5</td><td>0</td></tr>\n",
              "    <tr><td class='row_index'>1</td><td>2</td><td>2023-01-01<span class=sp>T</span>00:55:08</td><td>2023-01-01<span class=sp>T</span>01:01:27</td><td>1</td><td>1.1</td><td>1</td><td>N</td><td>43</td><td>237</td><td>1</td><td class=vellipsis>&hellip;</td><td>0</td><td>1</td><td>16.9</td><td>2.5</td><td>0</td></tr>\n",
              "    <tr><td class='row_index'>2</td><td>2</td><td>2023-01-01<span class=sp>T</span>00:25:04</td><td>2023-01-01<span class=sp>T</span>00:37:49</td><td>1</td><td>2.51</td><td>1</td><td>N</td><td>48</td><td>238</td><td>1</td><td class=vellipsis>&hellip;</td><td>0</td><td>1</td><td>34.9</td><td>2.5</td><td>0</td></tr>\n",
              "    <tr><td class='row_index'>3</td><td>1</td><td>2023-01-01<span class=sp>T</span>00:03:48</td><td>2023-01-01<span class=sp>T</span>00:13:25</td><td>0</td><td>1.9</td><td>1</td><td>N</td><td>138</td><td>7</td><td>1</td><td class=vellipsis>&hellip;</td><td>0</td><td>1</td><td>20.85</td><td>0</td><td>1.25</td></tr>\n",
              "    <tr><td class='row_index'>4</td><td>2</td><td>2023-01-01<span class=sp>T</span>00:10:29</td><td>2023-01-01<span class=sp>T</span>00:21:19</td><td>1</td><td>1.43</td><td>1</td><td>N</td><td>107</td><td>79</td><td>1</td><td class=vellipsis>&hellip;</td><td>0</td><td>1</td><td>19.68</td><td>2.5</td><td>0</td></tr>\n",
              "    <tr><td class='row_index'>5</td><td>2</td><td>2023-01-01<span class=sp>T</span>00:50:34</td><td>2023-01-01<span class=sp>T</span>01:02:52</td><td>1</td><td>1.84</td><td>1</td><td>N</td><td>161</td><td>137</td><td>1</td><td class=vellipsis>&hellip;</td><td>0</td><td>1</td><td>27.8</td><td>2.5</td><td>0</td></tr>\n",
              "    <tr><td class='row_index'>6</td><td>2</td><td>2023-01-01<span class=sp>T</span>00:09:22</td><td>2023-01-01<span class=sp>T</span>00:19:49</td><td>1</td><td>1.66</td><td>1</td><td>N</td><td>239</td><td>143</td><td>1</td><td class=vellipsis>&hellip;</td><td>0</td><td>1</td><td>20.52</td><td>2.5</td><td>0</td></tr>\n",
              "    <tr><td class='row_index'>7</td><td>2</td><td>2023-01-01<span class=sp>T</span>00:27:12</td><td>2023-01-01<span class=sp>T</span>00:49:56</td><td>1</td><td>11.7</td><td>1</td><td>N</td><td>142</td><td>200</td><td>1</td><td class=vellipsis>&hellip;</td><td>3</td><td>1</td><td>64.44</td><td>2.5</td><td>0</td></tr>\n",
              "    <tr><td class='row_index'>8</td><td>2</td><td>2023-01-01<span class=sp>T</span>00:21:44</td><td>2023-01-01<span class=sp>T</span>00:36:40</td><td>1</td><td>2.95</td><td>1</td><td>N</td><td>164</td><td>236</td><td>1</td><td class=vellipsis>&hellip;</td><td>0</td><td>1</td><td>28.38</td><td>2.5</td><td>0</td></tr>\n",
              "    <tr><td class='row_index'>9</td><td>2</td><td>2023-01-01<span class=sp>T</span>00:39:42</td><td>2023-01-01<span class=sp>T</span>00:50:36</td><td>1</td><td>3.01</td><td>1</td><td>N</td><td>141</td><td>107</td><td>2</td><td class=vellipsis>&hellip;</td><td>0</td><td>1</td><td>19.9</td><td>2.5</td><td>0</td></tr>\n",
              "  </tbody>\n",
              "  </table>\n",
              "  <div class='footer'>\n",
              "    <div class='frame_dimensions'>10 rows &times; 19 columns</div>\n",
              "  </div>\n",
              "</div>\n"
            ]
          },
          "metadata": {},
          "execution_count": 9
        }
      ]
    },
    {
      "cell_type": "markdown",
      "source": [
        "### Reding time"
      ],
      "metadata": {
        "id": "mjDT1kmiqqpy"
      }
    },
    {
      "cell_type": "code",
      "source": [
        "import time\n",
        "import pandas as pd\n",
        "from datatable import dt, fread\n",
        "\n",
        "# Define the data folder and file path\n",
        "\n",
        "file_path = f\"{data_folder}yellow_trip_data_2023_01_pandas.csv\"\n",
        "\n",
        "# Measure reading time with datatable\n",
        "start_time = time.time()\n",
        "df_dt = fread(file_path)\n",
        "dt_time = time.time() - start_time\n",
        "\n",
        "# Measure reading time with pandas\n",
        "start_time = time.time()\n",
        "df_pandas = pd.read_csv(file_path)\n",
        "pandas_time = time.time() - start_time\n",
        "\n",
        "# Create a DataFrame to display reading times\n",
        "results = pd.DataFrame({\n",
        "    'Method': ['datatable.fread', 'pandas.read_csv'],\n",
        "    'Time_Seconds': [dt_time, pandas_time]\n",
        "})\n",
        "\n",
        "print(results)"
      ],
      "metadata": {
        "colab": {
          "base_uri": "https://localhost:8080/",
          "height": 104
        },
        "id": "9g5HMBHcgn_V",
        "outputId": "3802c31c-facf-4805-dc29-41e885c464b2"
      },
      "execution_count": null,
      "outputs": [
        {
          "output_type": "display_data",
          "data": {
            "text/plain": [
              "<IPython.core.display.HTML object>"
            ],
            "text/html": [
              "<style type='text/css'>\n",
              ".datatable table.frame { margin-bottom: 0; }\n",
              ".datatable table.frame thead { border-bottom: none; }\n",
              ".datatable table.frame tr.coltypes td {  color: #FFFFFF;  line-height: 6px;  padding: 0 0.5em;}\n",
              ".datatable .bool    { background: #DDDD99; }\n",
              ".datatable .object  { background: #565656; }\n",
              ".datatable .int     { background: #5D9E5D; }\n",
              ".datatable .float   { background: #4040CC; }\n",
              ".datatable .str     { background: #CC4040; }\n",
              ".datatable .time    { background: #40CC40; }\n",
              ".datatable .row_index {  background: var(--jp-border-color3);  border-right: 1px solid var(--jp-border-color0);  color: var(--jp-ui-font-color3);  font-size: 9px;}\n",
              ".datatable .frame tbody td { text-align: left; }\n",
              ".datatable .frame tr.coltypes .row_index {  background: var(--jp-border-color0);}\n",
              ".datatable th:nth-child(2) { padding-left: 12px; }\n",
              ".datatable .hellipsis {  color: var(--jp-cell-editor-border-color);}\n",
              ".datatable .vellipsis {  background: var(--jp-layout-color0);  color: var(--jp-cell-editor-border-color);}\n",
              ".datatable .na {  color: var(--jp-cell-editor-border-color);  font-size: 80%;}\n",
              ".datatable .sp {  opacity: 0.25;}\n",
              ".datatable .footer { font-size: 9px; }\n",
              ".datatable .frame_dimensions {  background: var(--jp-border-color3);  border-top: 1px solid var(--jp-border-color0);  color: var(--jp-ui-font-color3);  display: inline-block;  opacity: 0.6;  padding: 1px 10px 1px 5px;}\n",
              "</style>\n"
            ]
          },
          "metadata": {}
        },
        {
          "output_type": "stream",
          "name": "stderr",
          "text": [
            "/tmp/ipython-input-1371003229.py:16: DtypeWarning: Columns (6) have mixed types. Specify dtype option on import or set low_memory=False.\n",
            "  df_pandas = pd.read_csv(file_path)\n"
          ]
        },
        {
          "output_type": "stream",
          "name": "stdout",
          "text": [
            "            Method  Time_Seconds\n",
            "0  datatable.fread      2.155667\n",
            "1  pandas.read_csv     11.407602\n"
          ]
        }
      ]
    },
    {
      "cell_type": "markdown",
      "source": [
        "### Write CSV file"
      ],
      "metadata": {
        "id": "Mr3ijExhjEG6"
      }
    },
    {
      "cell_type": "code",
      "source": [
        "import time\n",
        "import pandas as pd\n",
        "from datatable import dt, fread\n",
        "\n",
        "# Define the data folder and file paths\n",
        "\n",
        "input_file = f\"{data_folder}yellow_trip_data_2023_01_pandas.csv\"\n",
        "output_file_dt = f\"{data_folder}yellow_trip_data_2023_01_datatable.csv\"\n",
        "output_file_pandas = f\"{data_folder}yellow_trip_data_2023_01_pandas_output.csv\"\n",
        "\n",
        "# Read the input CSV file to ensure consistent data\n",
        "df_dt = fread(input_file)\n",
        "df_pandas = pd.read_csv(input_file)\n",
        "\n",
        "# Measure writing time with datatable\n",
        "start_time = time.time()\n",
        "df_dt.to_csv(output_file_dt)\n",
        "dt_time = time.time() - start_time\n",
        "\n",
        "# Measure writing time with pandas\n",
        "start_time = time.time()\n",
        "df_pandas.to_csv(output_file_pandas, index=False)\n",
        "pandas_time = time.time() - start_time\n",
        "\n",
        "# Create a DataFrame to display writing times\n",
        "results = pd.DataFrame({\n",
        "    'Method': ['datatable.to_csv', 'pandas.to_csv'],\n",
        "    'Time_Seconds': [dt_time, pandas_time]\n",
        "})\n",
        "\n",
        "print(results)"
      ],
      "metadata": {
        "colab": {
          "base_uri": "https://localhost:8080/"
        },
        "id": "iMG3QMLojERc",
        "outputId": "e35c79a5-5275-4d94-b18d-5dbacd3f1378"
      },
      "execution_count": null,
      "outputs": [
        {
          "output_type": "stream",
          "name": "stderr",
          "text": [
            "/tmp/ipython-input-1090562177.py:13: DtypeWarning: Columns (6) have mixed types. Specify dtype option on import or set low_memory=False.\n",
            "  df_pandas = pd.read_csv(input_file)\n"
          ]
        }
      ]
    },
    {
      "cell_type": "markdown",
      "source": [
        "## pyarrow\n",
        "\n",
        "The `pyarrow` package is the Python interface to Apache Arrow, a cross-language, high-performance framework for in-memory and larger-than-memory data processing. It provides a columnar data format optimized for analytical tasks, supporting formats like Parquet and Feather for efficient storage and I/O. pyarrow enables fast data interchange between Python and other languages (e.g., R, Julia), with features like zero-copy access, parallel processing, and integration with pandas and Dask. It’s ideal for big data workflows, offering speed and scalability in high-performance computing (HPC) environments."
      ],
      "metadata": {
        "id": "Tcqr5iS7mnuy"
      }
    },
    {
      "cell_type": "markdown",
      "source": [
        "### Creating an Arrow Table"
      ],
      "metadata": {
        "id": "6uZbxBfAnLon"
      }
    },
    {
      "cell_type": "code",
      "source": [
        "import pyarrow as pa\n",
        "\n",
        "# Create an Arrow Table\n",
        "dat = pa.Table.from_pandas(pd.DataFrame({\n",
        "    'x': [1, 2, 3, 4],\n",
        "    'y': ['a', 'b', 'c', 'd']\n",
        "}))\n",
        "print(dat)"
      ],
      "metadata": {
        "colab": {
          "base_uri": "https://localhost:8080/"
        },
        "id": "7tOr2zb3nSlF",
        "outputId": "604b1ac6-e42f-4aa2-d2a4-4b71915ab327"
      },
      "execution_count": null,
      "outputs": [
        {
          "output_type": "stream",
          "name": "stdout",
          "text": [
            "pyarrow.Table\n",
            "x: int64\n",
            "y: string\n",
            "----\n",
            "x: [[1,2,3,4]]\n",
            "y: [[\"a\",\"b\",\"c\",\"d\"]]\n"
          ]
        }
      ]
    },
    {
      "cell_type": "markdown",
      "source": [
        "### Converting DataFrame to Arrow Table"
      ],
      "metadata": {
        "id": "rEsjLRl_o1uV"
      }
    },
    {
      "cell_type": "code",
      "source": [
        "# import time\n",
        "import pandas as pd\n",
        "from datatable import dt, fread\n",
        "import pyarrow as pa\n",
        "import pyarrow.parquet as pq\n",
        "import glob\n",
        "\n",
        "# Define the data folder and file path\n",
        "\n",
        "file_path = f\"{data_folder}yellow_trip_data_2023_01_pandas.csv\"\n",
        "df_dt = fread(file_path)\n",
        "\n",
        "# Convert datatable Frame to pandas DataFrame\n",
        "df_pandas_from_dt = df_dt.to_pandas()\n",
        "\n",
        "# Convert pandas DataFrame to Arrow Table\n",
        "# arrow_table = pa.Table.from_pandas(df)\n",
        "arrow_table = pa.Table.from_pandas(df_pandas_from_dt)\n",
        "print(arrow_table.shape)"
      ],
      "metadata": {
        "colab": {
          "base_uri": "https://localhost:8080/"
        },
        "id": "apZKsTcfo9Lj",
        "outputId": "2479da3b-ed37-4084-edc7-b4fe9a250924"
      },
      "execution_count": null,
      "outputs": [
        {
          "output_type": "stream",
          "name": "stdout",
          "text": [
            "(3066766, 19)\n"
          ]
        }
      ]
    },
    {
      "cell_type": "markdown",
      "source": [
        "### Reading  with pyarrow"
      ],
      "metadata": {
        "id": "LeRFYz77pBub"
      }
    },
    {
      "cell_type": "code",
      "source": [
        "# Read Parquet as pandas dataframe\n",
        "df_arrow = pq.read_table(f\"{data_folder}yellow_tripdata_2023-01.parquet\").to_pandas()\n",
        "print(df_arrow.info())"
      ],
      "metadata": {
        "colab": {
          "base_uri": "https://localhost:8080/"
        },
        "id": "YwNG9qi2rMC2",
        "outputId": "964ab684-9aed-4c8a-f7d9-9adba2cb6a6f"
      },
      "execution_count": null,
      "outputs": [
        {
          "output_type": "stream",
          "name": "stdout",
          "text": [
            "<class 'pandas.core.frame.DataFrame'>\n",
            "RangeIndex: 3066766 entries, 0 to 3066765\n",
            "Data columns (total 19 columns):\n",
            " #   Column                 Dtype         \n",
            "---  ------                 -----         \n",
            " 0   VendorID               int64         \n",
            " 1   tpep_pickup_datetime   datetime64[us]\n",
            " 2   tpep_dropoff_datetime  datetime64[us]\n",
            " 3   passenger_count        float64       \n",
            " 4   trip_distance          float64       \n",
            " 5   RatecodeID             float64       \n",
            " 6   store_and_fwd_flag     object        \n",
            " 7   PULocationID           int64         \n",
            " 8   DOLocationID           int64         \n",
            " 9   payment_type           int64         \n",
            " 10  fare_amount            float64       \n",
            " 11  extra                  float64       \n",
            " 12  mta_tax                float64       \n",
            " 13  tip_amount             float64       \n",
            " 14  tolls_amount           float64       \n",
            " 15  improvement_surcharge  float64       \n",
            " 16  total_amount           float64       \n",
            " 17  congestion_surcharge   float64       \n",
            " 18  airport_fee            float64       \n",
            "dtypes: datetime64[us](2), float64(12), int64(4), object(1)\n",
            "memory usage: 444.6+ MB\n",
            "None\n"
          ]
        }
      ]
    },
    {
      "cell_type": "markdown",
      "source": [
        "### Write as paraquet"
      ],
      "metadata": {
        "id": "U0Uur5MAsg99"
      }
    },
    {
      "cell_type": "code",
      "source": [
        "# Write to Parquet\n",
        "# Convert pandas DataFrame to Arrow Table\n",
        "arrow_table_to_write = pa.Table.from_pandas(df_arrow)\n",
        "pq.write_table(arrow_table_to_write, f\"{data_folder}yellow_tripdata_2023_01_arrow.parquet\")"
      ],
      "metadata": {
        "id": "_7qHAKOfslXg"
      },
      "execution_count": null,
      "outputs": []
    },
    {
      "cell_type": "markdown",
      "source": [
        "## fastparquet\n",
        "\n",
        "The `fastparquet` package is a lightweight Python library designed for reading and writing Parquet files, a columnar storage format optimized for big data processing. It provides a fast and memory-efficient interface for handling large datasets, with support for advanced features like compression (e.g., Snappy, Gzip), partitioning, and filtering. fastparquet is compatible with pandas and integrates well with other Python data tools, making it ideal for high-performance computing (HPC) environments where efficient I/O and scalability are critical. While similar to `pyarrow`, `fastparquet` focuses specifically on Parquet files, offering a simpler API for this format."
      ],
      "metadata": {
        "id": "oDP-w7MTtGeJ"
      }
    },
    {
      "cell_type": "markdown",
      "source": [
        "Although fastparquet is primarily designed for Parquet files, you can use it in conjunction with pandas to handle workflows involving CSV files, such as the yellow_tripdata_2023_01_pandas.csv file, by first converting to/from Parquet. Below are examples demonstrating how to read a CSV file into a pandas DataFrame, convert it to Parquet using fastparquet, and write it back as a Parquet file."
      ],
      "metadata": {
        "id": "yZE71-HKuxjG"
      }
    },
    {
      "cell_type": "markdown",
      "source": [
        "### Reading CSV file"
      ],
      "metadata": {
        "id": "ewBQP3Ktu7DF"
      }
    },
    {
      "cell_type": "code",
      "source": [
        "import pandas as pd\n",
        "from fastparquet import write\n",
        "\n",
        "# Define the data folder and file paths\n",
        "csv_file = f\"{data_folder}yellow_trip_data_2023_01_pandas.csv\"\n",
        "parquet_file = f\"{data_folder}yellow_trip_data_2023_01_fastparquet.parquet\"\n",
        "\n",
        "# Read the CSV file into a pandas DataFrame\n",
        "df = pd.read_csv(csv_file)\n",
        "\n",
        "# Write the DataFrame to a Parquet file using fastparquet\n",
        "write(parquet_file, df)\n",
        "\n",
        "print(f\"Parquet file written to: {parquet_file}\")"
      ],
      "metadata": {
        "colab": {
          "base_uri": "https://localhost:8080/"
        },
        "id": "dnkD8qulvAiU",
        "outputId": "70e3dbee-6b5f-48db-e5f3-dc529107c500"
      },
      "execution_count": null,
      "outputs": [
        {
          "output_type": "stream",
          "name": "stderr",
          "text": [
            "/tmp/ipython-input-1040084917.py:9: DtypeWarning: Columns (6) have mixed types. Specify dtype option on import or set low_memory=False.\n",
            "  df = pd.read_csv(csv_file)\n"
          ]
        },
        {
          "output_type": "stream",
          "name": "stdout",
          "text": [
            "Parquet file written to: /content/drive/MyDrive/Data/CSV_files/yellow_trip_data_2023_01_fastparquet.parquet\n"
          ]
        }
      ]
    },
    {
      "cell_type": "markdown",
      "source": [
        "### Reading parquet file"
      ],
      "metadata": {
        "id": "cF6LS5m-tiR5"
      }
    },
    {
      "cell_type": "code",
      "source": [
        "from fastparquet import write, ParquetFile\n",
        "\n",
        "# Read Parquet\n",
        "df_fastparquet = ParquetFile(f\"{data_folder}yellow_tripdata_2023-01.parquet\").to_pandas()\n",
        "print(df_fastparquet.info())"
      ],
      "metadata": {
        "colab": {
          "base_uri": "https://localhost:8080/"
        },
        "id": "qBOwerAbtmPb",
        "outputId": "5630c77f-e8f4-4e0c-f2e0-9b9873ce7da6"
      },
      "execution_count": null,
      "outputs": [
        {
          "output_type": "stream",
          "name": "stdout",
          "text": [
            "<class 'pandas.core.frame.DataFrame'>\n",
            "RangeIndex: 3066766 entries, 0 to 3066765\n",
            "Data columns (total 19 columns):\n",
            " #   Column                 Dtype         \n",
            "---  ------                 -----         \n",
            " 0   VendorID               int64         \n",
            " 1   tpep_pickup_datetime   datetime64[ns]\n",
            " 2   tpep_dropoff_datetime  datetime64[ns]\n",
            " 3   passenger_count        float64       \n",
            " 4   trip_distance          float64       \n",
            " 5   RatecodeID             float64       \n",
            " 6   store_and_fwd_flag     object        \n",
            " 7   PULocationID           int64         \n",
            " 8   DOLocationID           int64         \n",
            " 9   payment_type           int64         \n",
            " 10  fare_amount            float64       \n",
            " 11  extra                  float64       \n",
            " 12  mta_tax                float64       \n",
            " 13  tip_amount             float64       \n",
            " 14  tolls_amount           float64       \n",
            " 15  improvement_surcharge  float64       \n",
            " 16  total_amount           float64       \n",
            " 17  congestion_surcharge   float64       \n",
            " 18  airport_fee            float64       \n",
            "dtypes: datetime64[ns](2), float64(12), int64(4), object(1)\n",
            "memory usage: 444.6+ MB\n",
            "None\n"
          ]
        }
      ]
    },
    {
      "cell_type": "markdown",
      "source": [
        "## dask\n",
        "\n",
        "The `dask` package is a flexible Python library designed for parallel and distributed computing, enabling efficient handling of large datasets that exceed memory limits. It provides a pandas-like DataFrame interface and array operations similar to NumPy, but processes data in chunks using lazy evaluation and parallel execution. dask integrates seamlessly with HPC clusters, cloud systems, and libraries like pandas, pyarrow, and fastparquet, making it ideal for scalable big data workflows. It supports various file formats (e.g., CSV, Parquet) and is optimized for tasks like data import/export, filtering, and aggregations in high-performance computing (HPC) environments."
      ],
      "metadata": {
        "id": "QeyvpBBVuTvi"
      }
    },
    {
      "cell_type": "markdown",
      "source": [
        "### Reading and Writing CSV Files with dask"
      ],
      "metadata": {
        "id": "J9gx3U0WulBo"
      }
    },
    {
      "cell_type": "code",
      "source": [
        "import dask.dataframe as dd\n",
        "\n",
        "# Define the data folder and file path\n",
        "file_path = f\"{data_folder}yellow_trip_data_2023_01_pandas.csv\"\n",
        "\n",
        "# Read the CSV file into a Dask DataFrame\n",
        "ddf = dd.read_csv(file_path)\n",
        "\n",
        "# Display basic information (computed to pandas for display)\n",
        "print(ddf.compute().info())\n",
        "print(f\"Shape: {ddf.compute().shape}\")\n",
        "print(ddf.columns)  # Column names"
      ],
      "metadata": {
        "colab": {
          "base_uri": "https://localhost:8080/"
        },
        "id": "BLQ63R_yv7yc",
        "outputId": "d859c8ca-027c-4f7d-e451-9f5fd1c1eb31"
      },
      "execution_count": null,
      "outputs": [
        {
          "output_type": "stream",
          "name": "stderr",
          "text": [
            "/usr/local/lib/python3.12/dist-packages/dask/dataframe/io/csv.py:77: DtypeWarning: Columns (6) have mixed types. Specify dtype option on import or set low_memory=False.\n",
            "  df = reader(bio, **kwargs)\n"
          ]
        },
        {
          "output_type": "stream",
          "name": "stdout",
          "text": [
            "<class 'pandas.core.frame.DataFrame'>\n",
            "Index: 3066766 entries, 0 to 619970\n",
            "Data columns (total 19 columns):\n",
            " #   Column                 Dtype  \n",
            "---  ------                 -----  \n",
            " 0   VendorID               int64  \n",
            " 1   tpep_pickup_datetime   string \n",
            " 2   tpep_dropoff_datetime  string \n",
            " 3   passenger_count        float64\n",
            " 4   trip_distance          float64\n",
            " 5   RatecodeID             float64\n",
            " 6   store_and_fwd_flag     string \n",
            " 7   PULocationID           int64  \n",
            " 8   DOLocationID           int64  \n",
            " 9   payment_type           int64  \n",
            " 10  fare_amount            float64\n",
            " 11  extra                  float64\n",
            " 12  mta_tax                float64\n",
            " 13  tip_amount             float64\n",
            " 14  tolls_amount           float64\n",
            " 15  improvement_surcharge  float64\n",
            " 16  total_amount           float64\n",
            " 17  congestion_surcharge   float64\n",
            " 18  airport_fee            float64\n",
            "dtypes: float64(12), int64(4), string(3)\n",
            "memory usage: 582.0 MB\n",
            "None\n"
          ]
        },
        {
          "output_type": "stream",
          "name": "stderr",
          "text": [
            "/usr/local/lib/python3.12/dist-packages/dask/dataframe/io/csv.py:77: DtypeWarning: Columns (6) have mixed types. Specify dtype option on import or set low_memory=False.\n",
            "  df = reader(bio, **kwargs)\n"
          ]
        },
        {
          "output_type": "stream",
          "name": "stdout",
          "text": [
            "Shape: (3066766, 19)\n",
            "Index(['VendorID', 'tpep_pickup_datetime', 'tpep_dropoff_datetime',\n",
            "       'passenger_count', 'trip_distance', 'RatecodeID', 'store_and_fwd_flag',\n",
            "       'PULocationID', 'DOLocationID', 'payment_type', 'fare_amount', 'extra',\n",
            "       'mta_tax', 'tip_amount', 'tolls_amount', 'improvement_surcharge',\n",
            "       'total_amount', 'congestion_surcharge', 'airport_fee'],\n",
            "      dtype='object')\n"
          ]
        }
      ]
    },
    {
      "cell_type": "markdown",
      "source": [
        "### Writing a CSV File\n",
        "The `to_csv` method in datatable allows writing a Frame to a CSV file, optimized for speed and memory efficiency."
      ],
      "metadata": {
        "id": "IvrvojjbwK4i"
      }
    },
    {
      "cell_type": "code",
      "source": [
        "import dask.dataframe as dd\n",
        "\n",
        "# Define the data folder and file paths\n",
        "input_file = f\"{data_folder}yellow_trip_data_2023_01_pandas.csv\"\n",
        "output_file = f\"{data_folder}yellow_trip_data_2023_01_dask.csv\"\n",
        "\n",
        "# Read the CSV file into a Dask DataFrame\n",
        "ddf = dd.read_csv(input_file)\n",
        "\n",
        "# Write the Dask DataFrame to a CSV file\n",
        "ddf.to_csv(output_file, single_file=True, index=False)\n",
        "\n",
        "print(f\"CSV file written to: {output_file}\")"
      ],
      "metadata": {
        "colab": {
          "base_uri": "https://localhost:8080/"
        },
        "id": "vsNV0OlfwfiS",
        "outputId": "be41f8a1-cbbf-47ba-e0a2-4ac2cc3c9f57"
      },
      "execution_count": null,
      "outputs": [
        {
          "output_type": "stream",
          "name": "stderr",
          "text": [
            "/usr/local/lib/python3.12/dist-packages/dask/dataframe/io/csv.py:77: DtypeWarning: Columns (6) have mixed types. Specify dtype option on import or set low_memory=False.\n",
            "  df = reader(bio, **kwargs)\n"
          ]
        },
        {
          "output_type": "stream",
          "name": "stdout",
          "text": [
            "CSV file written to: /content/drive/MyDrive/Data/CSV_files/yellow_trip_data_2023_01_dask.csv\n"
          ]
        }
      ]
    },
    {
      "cell_type": "code",
      "source": [
        "# Write to Parquet\n",
        "ddf.to_parquet(f\"{data_folder}yellow_tripdata_2023_01_dask.parquet\")"
      ],
      "metadata": {
        "colab": {
          "base_uri": "https://localhost:8080/"
        },
        "id": "6m2iVJOhzA01",
        "outputId": "d72d6fd8-1480-4217-e687-e39d6b1270d7"
      },
      "execution_count": null,
      "outputs": [
        {
          "output_type": "stream",
          "name": "stderr",
          "text": [
            "/usr/local/lib/python3.12/dist-packages/dask/dataframe/io/csv.py:77: DtypeWarning: Columns (6) have mixed types. Specify dtype option on import or set low_memory=False.\n",
            "  df = reader(bio, **kwargs)\n"
          ]
        }
      ]
    },
    {
      "cell_type": "markdown",
      "source": [
        "## Comparison\n",
        "\n",
        "We compare file formats (CSV, Parquet, Feather) and libraries (pandas, pyarrow, fastparquet, dask) for file size, reading, and writing times using the January dataset.\n",
        "\n",
        "\n"
      ],
      "metadata": {
        "id": "gX5C3_jcxIhY"
      }
    },
    {
      "cell_type": "markdown",
      "source": [
        "### File Size"
      ],
      "metadata": {
        "id": "DdkY2fUiyhUM"
      }
    },
    {
      "cell_type": "code",
      "source": [
        "import os\n",
        "\n",
        "# Calculate file sizes in KB\n",
        "file_sizes = pd.DataFrame({\n",
        "    'Format': ['CSV', 'Parquet (pyarrow)', 'Parquet (fastparquet)', 'Parquet (dask)'],\n",
        "    'Size_KB': [\n",
        "        os.path.getsize(f\"{data_folder}yellow_trip_data_2023_01_pandas.csv\") / 1000,\n",
        "        os.path.getsize(f\"{data_folder}yellow_tripdata_2023_01_arrow.parquet\") / 1000,\n",
        "        os.path.getsize(f\"{data_folder}yellow_tripdata_2023_01_fastparquet.parquet\") / 1000,\n",
        "        os.path.getsize(f\"{data_folder}yellow_tripdata_2023_01_dask.parquet\") / 1000\n",
        "    ]\n",
        "})\n",
        "print(file_sizes)"
      ],
      "metadata": {
        "colab": {
          "base_uri": "https://localhost:8080/"
        },
        "id": "BOCZ1X28wQ3y",
        "outputId": "69976da8-2a91-4ab0-8a2e-e5298e49027a"
      },
      "execution_count": null,
      "outputs": [
        {
          "output_type": "stream",
          "name": "stdout",
          "text": [
            "                  Format     Size_KB\n",
            "0                    CSV  321956.581\n",
            "1      Parquet (pyarrow)   63108.432\n",
            "2  Parquet (fastparquet)  456216.161\n",
            "3         Parquet (dask)       4.096\n"
          ]
        }
      ]
    },
    {
      "cell_type": "code",
      "metadata": {
        "colab": {
          "base_uri": "https://localhost:8080/",
          "height": 607
        },
        "id": "3ae16899",
        "outputId": "bbd6f0c2-7b38-450b-e954-f8a1ff65925e"
      },
      "source": [
        "import matplotlib.pyplot as plt\n",
        "import seaborn as sns\n",
        "\n",
        "# Create a bar plot of file sizes\n",
        "plt.figure(figsize=(8, 6))\n",
        "sns.barplot(x='Format', y='Size_KB', data=file_sizes)\n",
        "plt.title('File Size Comparison by Format (January 2023 Data)')\n",
        "plt.xlabel('File Format')\n",
        "plt.ylabel('Size (KB)')\n",
        "plt.xticks(rotation=45, ha='right')\n",
        "plt.tight_layout()\n",
        "plt.show()"
      ],
      "execution_count": null,
      "outputs": [
        {
          "output_type": "display_data",
          "data": {
            "text/plain": [
              "<Figure size 800x600 with 1 Axes>"
            ],
            "image/png": "[encoded data removed]"
          },
          "metadata": {}
        }
      ]
    },
    {
      "cell_type": "markdown",
      "source": [
        "This bar plot visually represents the file sizes of the January 2023 taxi trip data when stored in different formats and processed with different libraries.\n",
        "\n",
        "Here's what the plot shows:\n",
        "\n",
        "-   **CSV is the largest:** The bar for the CSV format is the tallest, indicating that the CSV file is the largest in terms of size. This is typical for CSV files, as they store data in a plain text, row-based format without significant compression.\n",
        "\n",
        "-   **Parquet is smaller (generally):** The bars for the Parquet files are generally shorter than the CSV bar. This demonstrates the effectiveness of the Parquet format in reducing file size through columnar storage and compression.\n",
        "\n",
        "-   **Differences among Parquet implementations:** There are variations in the size of the Parquet files created by different libraries (`pyarrow`, `fastparquet`, and `dask`).\n",
        "\n",
        "    -   `pyarrow` created the smallest Parquet file in this comparison.\n",
        "\n",
        "    -   `fastparquet` created a Parquet file that appears even larger than the CSV file in this specific instance. This might be due to the specific compression settings used or other factors in how `fastparquet` saved this particular file. It's worth noting that while Parquet is generally smaller than CSV, the exact size can vary depending on the library, data types, and compression level.\n",
        "\n",
        "    -   The `dask` Parquet file is extremely small. As I mentioned before, this is likely not the full dataset but rather a metadata file that dask uses to represent the larger dataset, which is processed in chunks.\n",
        "\n",
        "\n"
      ],
      "metadata": {
        "id": "gb1Hmoh90eE9"
      }
    },
    {
      "cell_type": "markdown",
      "source": [
        "### Reading Time - parqute file"
      ],
      "metadata": {
        "id": "NfJE0QDI0fdV"
      }
    },
    {
      "cell_type": "code",
      "source": [
        "import time\n",
        "\n",
        "# Measure reading times\n",
        "pandas_time = time.time()\n",
        "pd.read_parquet(f\"{data_folder}yellow_tripdata_2023-01.parquet\")\n",
        "csv_time = time.time() - pandas_time\n",
        "\n",
        "arrow_time = time.time()\n",
        "pq.read_table(f\"{data_folder}yellow_tripdata_2023-01.parquet\").to_pandas()\n",
        "arrow_time = time.time() - arrow_time\n",
        "\n",
        "fastparquet_time = time.time()\n",
        "ParquetFile(f\"{data_folder}yellow_tripdata_2023-01.parquet\").to_pandas()\n",
        "fastparquet_time = time.time() - fastparquet_time\n",
        "\n",
        "dask_time = time.time()\n",
        "dd.read_parquet(f\"{data_folder}yellow_tripdata_2023-01.parquet\").compute()\n",
        "dask_time = time.time() - dask_time\n",
        "\n",
        "# Create DataFrame with reading times\n",
        "reading_times = pd.DataFrame({\n",
        "    'Method': ['pandas', 'pyarrow', 'fastparquet', 'dask'],\n",
        "    'Time_Seconds': [pandas_time, arrow_time, fastparquet_time, dask_time]\n",
        "})\n",
        "print(reading_times)"
      ],
      "metadata": {
        "colab": {
          "base_uri": "https://localhost:8080/"
        },
        "id": "uWLkUTaR04Uh",
        "outputId": "f1350ec2-92cc-4288-95a1-ca7580c6865d"
      },
      "execution_count": null,
      "outputs": [
        {
          "output_type": "stream",
          "name": "stdout",
          "text": [
            "        Method  Time_Seconds\n",
            "0       pandas  1.758837e+09\n",
            "1      pyarrow  1.259705e+00\n",
            "2  fastparquet  1.715049e+00\n",
            "3         dask  2.360731e+00\n"
          ]
        }
      ]
    },
    {
      "cell_type": "code",
      "metadata": {
        "colab": {
          "base_uri": "https://localhost:8080/",
          "height": 607
        },
        "id": "7dc29816",
        "outputId": "de4cf8ba-b593-45ca-b520-d9fef0fab876"
      },
      "source": [
        "import matplotlib.pyplot as plt\n",
        "import seaborn as sns\n",
        "\n",
        "# Create a bar plot of reading times\n",
        "plt.figure(figsize=(8, 6))\n",
        "sns.barplot(x='Method', y='Time_Seconds', data=reading_times)\n",
        "plt.title('Reading Time Comparison by Library (Parquet-File)')\n",
        "plt.xlabel('Library')\n",
        "plt.ylabel('Time (Seconds)')\n",
        "plt.xticks(rotation=45, ha='right')\n",
        "plt.tight_layout()\n",
        "plt.show()"
      ],
      "execution_count": null,
      "outputs": [
        {
          "output_type": "display_data",
          "data": {
            "text/plain": [
              "<Figure size 800x600 with 1 Axes>"
            ],
            "image/png": "[encoded data removed]"
          },
          "metadata": {}
        }
      ]
    },
    {
      "cell_type": "markdown",
      "source": [
        " ### Reading Time - CSV file"
      ],
      "metadata": {
        "id": "k9C63dVU2_k9"
      }
    },
    {
      "cell_type": "code",
      "source": [
        "import time\n",
        "import pandas as pd\n",
        "from datatable import fread\n",
        "import dask.dataframe as dd\n",
        "\n",
        "# Define the data folder and CSV file path\n",
        "data_folder = \"/content/drive/MyDrive/Data/CSV_files/\"\n",
        "csv_file = f\"{data_folder}yellow_trip_data_2023_01_pandas.csv\"\n",
        "\n",
        "\n",
        "# Measure reading time with pandas\n",
        "start_time = time.time()\n",
        "df_pandas_csv = pd.read_csv(csv_file)\n",
        "pandas_csv_time = time.time() - start_time\n",
        "\n",
        "# Measure reading time with datatable\n",
        "start_time = time.time()\n",
        "df_dt_csv = fread(csv_file)\n",
        "dt_csv_time = time.time() - start_time\n",
        "\n",
        "# Measure reading time with dask\n",
        "start_time = time.time()\n",
        "ddf_csv = dd.read_csv(csv_file).compute() # .compute() to trigger reading\n",
        "dask_csv_time = time.time() - start_time\n",
        "\n",
        "\n",
        "# Create DataFrame with reading times\n",
        "reading_times_csv = pd.DataFrame({\n",
        "    'Method': ['pandas', 'datatable', 'dask'],\n",
        "    'Time_Seconds': [pandas_csv_time, dt_csv_time, dask_csv_time]\n",
        "})\n",
        "print(reading_times_csv)"
      ],
      "metadata": {
        "colab": {
          "base_uri": "https://localhost:8080/"
        },
        "id": "nrKlvZG_3IOg",
        "outputId": "a19c8979-8c45-41fb-e044-a976a0659f17"
      },
      "execution_count": null,
      "outputs": [
        {
          "output_type": "stream",
          "name": "stderr",
          "text": [
            "/tmp/ipython-input-1652114573.py:13: DtypeWarning: Columns (6) have mixed types. Specify dtype option on import or set low_memory=False.\n",
            "  df_pandas_csv = pd.read_csv(csv_file)\n",
            "/usr/local/lib/python3.12/dist-packages/dask/dataframe/io/csv.py:77: DtypeWarning: Columns (6) have mixed types. Specify dtype option on import or set low_memory=False.\n",
            "  df = reader(bio, **kwargs)\n"
          ]
        },
        {
          "output_type": "stream",
          "name": "stdout",
          "text": [
            "      Method  Time_Seconds\n",
            "0     pandas     11.869907\n",
            "1  datatable      2.129029\n",
            "2       dask     11.623873\n"
          ]
        }
      ]
    },
    {
      "cell_type": "code",
      "source": [
        "import matplotlib.pyplot as plt\n",
        "import seaborn as sns\n",
        "\n",
        "# Create a bar plot of reading times\n",
        "plt.figure(figsize=(8, 6))\n",
        "sns.barplot(x='Method', y='Time_Seconds', data=reading_times_csv)\n",
        "plt.title('Reading Time Comparison by Library (CSV File)')\n",
        "plt.xlabel('Library')\n",
        "plt.ylabel('Time (Seconds)')\n",
        "plt.xticks(rotation=45, ha='right')\n",
        "plt.tight_layout()\n",
        "plt.show()"
      ],
      "metadata": {
        "colab": {
          "base_uri": "https://localhost:8080/",
          "height": 607
        },
        "outputId": "0961a2b4-d12f-4b55-8509-fdc2ed0b105a",
        "id": "nu0lQXY83nsf"
      },
      "execution_count": null,
      "outputs": [
        {
          "output_type": "display_data",
          "data": {
            "text/plain": [
              "<Figure size 800x600 with 1 Axes>"
            ],
            "image/png": "[encoded data removed]"
          },
          "metadata": {}
        }
      ]
    },
    {
      "cell_type": "markdown",
      "source": [
        "### Writing time"
      ],
      "metadata": {
        "id": "qz0WWycY6R2Y"
      }
    },
    {
      "cell_type": "code",
      "source": [
        "# Measure writing times\n",
        "csv_time = time.time()\n",
        "df.to_csv(f\"{data_folder}yellow_trip_data_2023_01_pandas.csv\", index=False)\n",
        "csv_time = time.time() - csv_time\n",
        "\n",
        "arrow_time = time.time()\n",
        "pq.write_table(arrow_table, f\"{data_folder}yellow_tripdata_2023_01_arrow.parquet\")\n",
        "arrow_time = time.time() - arrow_time\n",
        "\n",
        "fastparquet_time = time.time()\n",
        "write(f\"{data_folder}yellow_tripdata_2023_01_fastparquet.parquet\", df)\n",
        "fastparquet_time = time.time() - fastparquet_time\n",
        "\n",
        "dask_time = time.time()\n",
        "ddf.to_parquet(f\"{data_folder}yellow_tripdata_2023_01_dask.parquet\")\n",
        "dask_time = time.time() - dask_time\n",
        "\n",
        "# Create DataFrame with writing times\n",
        "writing_times = pd.DataFrame({\n",
        "    'Method': ['pandas.to_csv', 'pyarrow.write_parquet', 'fastparquet', 'dask.to_parquet'],\n",
        "    'Time_Seconds': [csv_time, arrow_time, fastparquet_time, dask_time]\n",
        "})\n",
        "print(writing_times)"
      ],
      "metadata": {
        "colab": {
          "base_uri": "https://localhost:8080/"
        },
        "id": "-6pexp2o6XG5",
        "outputId": "60af29f1-9815-4ade-fab7-84f0dcb2d922"
      },
      "execution_count": null,
      "outputs": [
        {
          "output_type": "stream",
          "name": "stderr",
          "text": [
            "/usr/local/lib/python3.12/dist-packages/dask/dataframe/io/csv.py:77: DtypeWarning: Columns (6) have mixed types. Specify dtype option on import or set low_memory=False.\n",
            "  df = reader(bio, **kwargs)\n"
          ]
        },
        {
          "output_type": "stream",
          "name": "stdout",
          "text": [
            "                  Method  Time_Seconds\n",
            "0          pandas.to_csv     53.639536\n",
            "1  pyarrow.write_parquet      2.006463\n",
            "2            fastparquet      5.210672\n",
            "3        dask.to_parquet     19.937439\n"
          ]
        }
      ]
    },
    {
      "cell_type": "code",
      "source": [
        "import matplotlib.pyplot as plt\n",
        "import seaborn as sns\n",
        "\n",
        "# Create a bar plot of reading times\n",
        "plt.figure(figsize=(8, 6))\n",
        "sns.barplot(x='Method', y='Time_Seconds', data=writing_times)\n",
        "plt.title('Wrting Time Comparison by Library')\n",
        "plt.xlabel('Library')\n",
        "plt.ylabel('Time (Seconds)')\n",
        "plt.xticks(rotation=45, ha='right')\n",
        "plt.tight_layout()\n",
        "plt.show()"
      ],
      "metadata": {
        "colab": {
          "base_uri": "https://localhost:8080/",
          "height": 607
        },
        "id": "20DuID_d6_JL",
        "outputId": "9ce92d85-4999-4def-e34d-ca071e2458c5"
      },
      "execution_count": null,
      "outputs": [
        {
          "output_type": "display_data",
          "data": {
            "text/plain": [
              "<Figure size 800x600 with 1 Axes>"
            ],
            "image/png": "[encoded data removed]"
          },
          "metadata": {}
        }
      ]
    },
    {
      "cell_type": "markdown",
      "source": [
        "## Summary and Conclusion\n",
        "\n",
        "Efficient big data handling in Python requires optimized libraries and HPC strategies. pandas, pyarrow, fastparquet, and dask offer robust solutions for importing and exporting large datasets. Parquet files, with their compression and columnar storage, significantly reduce disk space compared to CSV, while dask enables scalable processing on HPC clusters. By leveraging these tools, data scientists can achieve high-performance, scalable workflows for big data analysis."
      ],
      "metadata": {
        "id": "xb9uMXWA6Hlv"
      }
    },
    {
      "cell_type": "markdown",
      "source": [
        "##  Resources\n",
        "\n",
        "1. **_High Performance Python_** (O’Reilly) – Optimization, parallelism, HPC.  \n",
        "2. **Real Python** – Tutorials on `pandas`, `dask`, Parquet, and large datasets.  \n",
        "   → [realpython.com](https://realpython.com)\n",
        "\n",
        "3. **pandas** – [pandas.pydata.org](https://pandas.pydata.org/docs/)  \n",
        "   - See *Scaling to large datasets* guide.\n",
        "4. **PyArrow** – [arrow.apache.org/docs/python](https://arrow.apache.org/docs/python/)  \n",
        "   - Parquet, Feather, zero-copy, pandas integration.\n",
        "5. **fastparquet** – [fastparquet.readthedocs.io](https://fastparquet.readthedocs.io)  \n",
        "   - Lightweight Parquet I/O; integrates with Dask.\n",
        "6. **Dask** – [docs.dask.org](https://docs.dask.org)  \n",
        "   - Parallel/distributed computing; scalable DataFrames.\n",
        "7. **datatable** – [datatable.readthedocs.io](https://datatable.readthedocs.io)  \n",
        "   - Fast CSV I/O and data manipulation (pandas alternative).\n",
        "8. **NYC Taxi Data** – Real-world Parquet/CSV dataset for testing.  \n",
        "   → [nyc.gov/tlc](https://www.nyc.gov/site/tlc/about/tlc-trip-record-data.page)\n",
        "9. **Kaggle / Towards Data Science** – Tutorials comparing `pandas`, `dask`, `pyarrow`.  \n",
        "10. **PyData Talks** – Expert talks on scalable Python workflows.  \n",
        "    → [pydata.org](https://pydata.org)\n"
      ],
      "metadata": {
        "id": "zVDq5h_-6I5s"
      }
    }
  ]
}